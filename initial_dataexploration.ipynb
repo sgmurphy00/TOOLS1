{
 "cells": [
  {
   "cell_type": "code",
   "execution_count": 1,
   "metadata": {},
   "outputs": [],
   "source": [
    "import pandas as pd\n",
    "import numpy as np\n",
    "import matplotlib.pyplot as plt\n",
    "import tensorflow as tf\n",
    "from sklearn.model_selection import train_test_split\n",
    "from datetime import datetime\n",
    "from tensorflow.keras.callbacks import EarlyStopping, ModelCheckpoint\n",
    "\n",
    "%matplotlib inline"
   ]
  },
  {
   "cell_type": "code",
   "execution_count": 3,
   "metadata": {},
   "outputs": [],
   "source": [
    "# compare histogram of pixel avg for train vs adversarial"
   ]
  },
  {
   "cell_type": "code",
   "execution_count": 2,
   "metadata": {},
   "outputs": [],
   "source": [
    "train_data_path = 'DEEPSAT6/X_train_sat6.csv'\n",
    "train_label_path = 'DEEPSAT6/y_train_sat6.csv'\n",
    "test_data_path = 'DEEPSAT6/X_test_sat6.csv'\n",
    "test_label_path = 'DEEPSAT6/y_test_sat6.csv'"
   ]
  },
  {
   "cell_type": "code",
   "execution_count": 3,
   "metadata": {},
   "outputs": [],
   "source": [
    "x_train = pd.read_csv(train_data_path, header=None, dtype='uint8')\n",
    "y_train = pd.read_csv(train_label_path, header=None, dtype='uint8')\n",
    "x_test = pd.read_csv(test_data_path, header=None, dtype='uint8')\n",
    "y_test = pd.read_csv(test_label_path, header=None, dtype='uint8')"
   ]
  },
  {
   "cell_type": "code",
   "execution_count": 4,
   "metadata": {},
   "outputs": [
    {
     "name": "stdout",
     "output_type": "stream",
     "text": [
      "Train data shape:  (324000, 3136)\n",
      "Train label shape:  (324000, 6)\n",
      "Test data shape:  (81000, 3136)\n",
      "Test label shape:  (81000, 6)\n"
     ]
    }
   ],
   "source": [
    "print(\"Train data shape: \", x_train.shape)\n",
    "print(\"Train label shape: \", y_train.shape)\n",
    "print(\"Test data shape: \", x_test.shape)\n",
    "print(\"Test label shape: \", y_test.shape)"
   ]
  },
  {
   "cell_type": "code",
   "execution_count": 5,
   "metadata": {},
   "outputs": [
    {
     "data": {
      "text/plain": [
       "((324000, 28, 28, 4), (81000, 28, 28, 4))"
      ]
     },
     "execution_count": 5,
     "metadata": {},
     "output_type": "execute_result"
    }
   ],
   "source": [
    "x_train = x_train.values.reshape([-1,28,28,4])\n",
    "x_test = x_test.values.reshape([-1,28,28,4])\n",
    "\n",
    "x_train.shape, x_test.shape"
   ]
  },
  {
   "cell_type": "code",
   "execution_count": 6,
   "metadata": {},
   "outputs": [
    {
     "name": "stdout",
     "output_type": "stream",
     "text": [
      "Num. classes: 6\n",
      "Class names: ['Construction', 'Road', 'Grassland', 'Barren', 'Water', 'Treecover']\n"
     ]
    }
   ],
   "source": [
    "class_names = ['Construction', 'Road', 'Grassland', 'Barren', 'Water', 'Treecover']\n",
    "class_count = len(class_names)\n",
    "\n",
    "print(\"Num. classes: %d\" % class_count)\n",
    "print(\"Class names:\", class_names)"
   ]
  },
  {
   "cell_type": "code",
   "execution_count": 7,
   "metadata": {},
   "outputs": [],
   "source": [
    "def label_converter(values):\n",
    "  if values[0] == 1:    # Building \n",
    "    return 0\n",
    "  elif values[1] == 1:  # Barren land \n",
    "    return 3\n",
    "  elif values[2] == 1:  # Trees\n",
    "    return 5\n",
    "  elif values[3] == 1:  # Grassland\n",
    "    return 2\n",
    "  elif values[4] == 1:  # Road\n",
    "    return 1\n",
    "  elif values[5] == 1:  # Water\n",
    "    return 4\n",
    "  else:\n",
    "    return None"
   ]
  },
  {
   "cell_type": "code",
   "execution_count": 8,
   "metadata": {},
   "outputs": [
    {
     "data": {
      "text/plain": [
       "array([5, 3, 4, ..., 4, 2, 3], dtype=uint8)"
      ]
     },
     "execution_count": 8,
     "metadata": {},
     "output_type": "execute_result"
    }
   ],
   "source": [
    "y_train = y_train.apply(label_converter, axis=1).values.ravel().astype('uint8')\n",
    "#y_train = train_label.values.ravel().astype('uint8')\n",
    "#y_train = train_label.apply(label_converter, axis=1).astype('category')\n",
    "y_train"
   ]
  },
  {
   "cell_type": "code",
   "execution_count": 9,
   "metadata": {},
   "outputs": [
    {
     "data": {
      "text/plain": [
       "array([5, 5, 4, ..., 5, 4, 5], dtype=uint8)"
      ]
     },
     "execution_count": 9,
     "metadata": {},
     "output_type": "execute_result"
    }
   ],
   "source": [
    "y_test = y_test.apply(label_converter, axis=1).values.ravel().astype('uint8')\n",
    "#y_test = test_label.values.ravel().astype('uint8')\n",
    "#y_test = test_label.apply(label_converter, axis=1).astype('category')\n",
    "y_test"
   ]
  },
  {
   "cell_type": "code",
   "execution_count": 10,
   "metadata": {},
   "outputs": [
    {
     "data": {
      "text/plain": [
       "(array([0, 1, 2, 3, 4, 5], dtype=uint8),\n",
       " array([ 3714,  2070, 12596, 18367, 30068, 14185], dtype=int64))"
      ]
     },
     "execution_count": 10,
     "metadata": {},
     "output_type": "execute_result"
    }
   ],
   "source": [
    "np.unique(y_train, return_counts=True)\n",
    "np.unique(y_test, return_counts=True)"
   ]
  },
  {
   "cell_type": "code",
   "execution_count": 11,
   "metadata": {},
   "outputs": [],
   "source": [
    "def show_samples(data, labels):\n",
    "    fig = plt.figure(figsize=(16, 8))\n",
    "    ax = []\n",
    "    rows, columns = 4, 8\n",
    "    \n",
    "    for i in range(columns * rows):\n",
    "        index = np.random.randint(1, 500)\n",
    "        img = data[index].reshape([28,28,4])[:,:,:3]\n",
    "        class_name = class_names[labels[index]]\n",
    "        ax.append(fig.add_subplot(rows, columns, i+1))\n",
    "        ax[-1].set_title(class_name)\n",
    "        plt.axis(\"off\")\n",
    "        plt.imshow(img)\n",
    "\n",
    "    plt.subplots_adjust(wspace=0.1, hspace=0.5)\n",
    "    plt.show()"
   ]
  },
  {
   "cell_type": "code",
   "execution_count": 12,
   "metadata": {},
   "outputs": [],
   "source": [
    "# show_samples(x_train, y_train) <---- BROKEN with dtype tf.float32"
   ]
  },
  {
   "cell_type": "code",
   "execution_count": 13,
   "metadata": {},
   "outputs": [],
   "source": [
    "def show_sample_histogram(data, labels, index=None):\n",
    "\n",
    "    if not index:\n",
    "        index = np.random.randint(1, len(labels))\n",
    "\n",
    "    fig = plt.figure(figsize=(12, 6))\n",
    "    ax = []\n",
    "    rows, columns = 1, 2\n",
    "    colors = (\"red\", \"green\", \"blue\", \"purple\")\n",
    "    channel_ids = (0, 1, 2, 3)\n",
    "\n",
    "    all = data[index].reshape([28, 28, 4])\n",
    "\n",
    "    class_name = class_names[labels[index]]\n",
    "    rgb = all[:,:,:3]\n",
    "    ax.append(fig.add_subplot(rows, columns, 1))\n",
    "    ax[-1].set_title(class_name, fontsize=20)\n",
    "    plt.axis(\"off\")\n",
    "    plt.imshow(rgb)\n",
    "\n",
    "    ax.append(fig.add_subplot(rows, columns, 2))\n",
    "    ax[-1].set_xlim([0, 256])\n",
    "    for channel_id, c in zip(channel_ids, colors):\n",
    "        histogram, bin_edges = np.histogram(\n",
    "            all[:, :, channel_id], bins=256, range=(0, 256))\n",
    "        ax[-1].plot(bin_edges[0:-1], histogram, color=c, linewidth=0.8)\n",
    "        ax[-1].set_title('Histogram of pixels', fontsize=20)\n",
    "        ax[-1].legend(['R', 'G', 'B', 'NIR'])\n",
    "\n",
    "    fig.tight_layout()\n",
    "\n",
    "    #plt.subplots_adjust(wspace=0.1, hspace=0.5)\n",
    "    plt.show()"
   ]
  },
  {
   "cell_type": "code",
   "execution_count": 14,
   "metadata": {},
   "outputs": [
    {
     "data": {
      "image/png": "[encoded data removed]",
      "text/plain": [
       "<Figure size 1200x600 with 2 Axes>"
      ]
     },
     "metadata": {},
     "output_type": "display_data"
    }
   ],
   "source": [
    "show_sample_histogram(x_train, y_train) #index = n"
   ]
  },
  {
   "cell_type": "code",
   "execution_count": 15,
   "metadata": {},
   "outputs": [
    {
     "name": "stdout",
     "output_type": "stream",
     "text": [
      "(226800, 28, 28, 4)\n",
      "(97200, 28, 28, 4)\n",
      "(226800,)\n",
      "(97200,)\n"
     ]
    }
   ],
   "source": [
    "x_train_partial, x_validation, y_train_partial, y_validation = train_test_split(\n",
    "    x_train, y_train, test_size=0.3, random_state=0, stratify=y_train)\n",
    "\n",
    "print(x_train_partial.shape)\n",
    "print(x_validation.shape)\n",
    "print(y_train_partial.shape)\n",
    "print(y_validation.shape)"
   ]
  },
  {
   "cell_type": "code",
   "execution_count": 16,
   "metadata": {},
   "outputs": [],
   "source": [
    "def train_and_test(id, model, x_train, y_train, x_test, y_test, epochs=10): \n",
    "    global best_model, best_accuracy\n",
    "\n",
    "    start_time = datetime.now()\n",
    "    model.fit(x_train, y_train, epochs=epochs)\n",
    "\n",
    "    end_time = datetime.now()\n",
    "    duration = (end_time - start_time).total_seconds()\n",
    "\n",
    "    print(\"Training took %.1f seconds\" % duration)\n",
    "    \n",
    "    print(f\"Model eval:\")\n",
    "    accuracy = model.evaluate(x_test, y_test)\n",
    "\n",
    "    #benchmark[id] = (accuracy[1], accuracy[0], duration)\n",
    "\n",
    "    #if accuracy[1] > best_accuracy:\n",
    "    #    best_model = model\n",
    "    #    best_accuracy = accuracy[1]\n",
    "\n",
    "    return accuracy"
   ]
  },
  {
   "cell_type": "code",
   "execution_count": 17,
   "metadata": {},
   "outputs": [],
   "source": [
    "from tensorflow.keras.models import Sequential\n",
    "from tensorflow.keras.layers import Conv2D, MaxPool2D, Flatten\n",
    "from tensorflow.keras.layers import Dense, Dropout, BatchNormalization"
   ]
  },
  {
   "cell_type": "code",
   "execution_count": 18,
   "metadata": {},
   "outputs": [],
   "source": [
    "def create_modelv1(class_count, print_summary=False):\n",
    "\n",
    "    model = Sequential([\n",
    "        Conv2D(32, (4,4), activation='relu', input_shape=(28,28,4)),\n",
    "        MaxPool2D((3,3)),\n",
    "        Flatten(),\n",
    "        Dense(class_count, activation='softmax'),\n",
    "    ])\n",
    "\n",
    "    model.compile('adam', loss='sparse_categorical_crossentropy', metrics=['accuracy'])\n",
    "\n",
    "    if print_summary:\n",
    "        model.summary()\n",
    "\n",
    "    return model"
   ]
  },
  {
   "cell_type": "code",
   "execution_count": 21,
   "metadata": {},
   "outputs": [],
   "source": [
    "seed_value = 42\n",
    "\n",
    "# 1. Set the `PYTHONHASHSEED` environment variable at a fixed value\n",
    "import os\n",
    "os.environ['PYTHONHASHSEED'] = str(seed_value)\n",
    "\n",
    "# 2. Set the `python` built-in pseudo-random generator at a fixed value\n",
    "import random\n",
    "random.seed(seed_value)\n",
    "\n",
    "# 3. Set the `numpy` pseudo-random generator at a fixed value\n",
    "import numpy as np\n",
    "np.random.seed(seed_value)\n",
    "\n",
    "# 4. Set the `tensorflow` pseudo-random generator at a fixed value\n",
    "import tensorflow as tf\n",
    "tf.random.set_seed(seed_value)"
   ]
  },
  {
   "cell_type": "code",
   "execution_count": 34,
   "metadata": {},
   "outputs": [],
   "source": [
    "epsilon=0.1\n",
    "x_test_lim = x_test[:5000]\n",
    "y_test_lim = y_test[:5000]\n",
    "x_train_lim = x_train[:5000]\n",
    "y_train_lim = y_train[:5000]"
   ]
  },
  {
   "cell_type": "code",
   "execution_count": 20,
   "metadata": {},
   "outputs": [
    {
     "name": "stderr",
     "output_type": "stream",
     "text": [
      "c:\\Users\\Durf\\anaconda3\\envs\\tools1\\Lib\\site-packages\\keras\\src\\layers\\convolutional\\base_conv.py:107: UserWarning: Do not pass an `input_shape`/`input_dim` argument to a layer. When using Sequential models, prefer using an `Input(shape)` object as the first layer in the model instead.\n",
      "  super().__init__(activity_regularizer=activity_regularizer, **kwargs)\n"
     ]
    },
    {
     "name": "stdout",
     "output_type": "stream",
     "text": [
      "Epoch 1/5\n",
      "\u001b[1m157/157\u001b[0m \u001b[32m━━━━━━━━━━━━━━━━━━━━\u001b[0m\u001b[37m\u001b[0m \u001b[1m5s\u001b[0m 3ms/step - accuracy: 0.7183 - loss: 9.2957\n",
      "Epoch 2/5\n",
      "\u001b[1m157/157\u001b[0m \u001b[32m━━━━━━━━━━━━━━━━━━━━\u001b[0m\u001b[37m\u001b[0m \u001b[1m1s\u001b[0m 3ms/step - accuracy: 0.8535 - loss: 0.4719\n",
      "Epoch 3/5\n",
      "\u001b[1m157/157\u001b[0m \u001b[32m━━━━━━━━━━━━━━━━━━━━\u001b[0m\u001b[37m\u001b[0m \u001b[1m0s\u001b[0m 3ms/step - accuracy: 0.8728 - loss: 0.4005\n",
      "Epoch 4/5\n",
      "\u001b[1m157/157\u001b[0m \u001b[32m━━━━━━━━━━━━━━━━━━━━\u001b[0m\u001b[37m\u001b[0m \u001b[1m0s\u001b[0m 3ms/step - accuracy: 0.8838 - loss: 0.3325\n",
      "Epoch 5/5\n",
      "\u001b[1m157/157\u001b[0m \u001b[32m━━━━━━━━━━━━━━━━━━━━\u001b[0m\u001b[37m\u001b[0m \u001b[1m0s\u001b[0m 3ms/step - accuracy: 0.8872 - loss: 0.3477\n",
      "Training took 8.3 seconds\n",
      "Model eval:\n",
      "\u001b[1m157/157\u001b[0m \u001b[32m━━━━━━━━━━━━━━━━━━━━\u001b[0m\u001b[37m\u001b[0m \u001b[1m0s\u001b[0m 2ms/step - accuracy: 0.9185 - loss: 0.2605\n"
     ]
    },
    {
     "data": {
      "text/plain": [
       "[0.27918192744255066, 0.9143999814987183]"
      ]
     },
     "execution_count": 20,
     "metadata": {},
     "output_type": "execute_result"
    }
   ],
   "source": [
    "modelv1 = create_modelv1(class_count)\n",
    "train_and_test('v0.1', modelv1, x_train_lim, y_train_lim, x_test_lim, y_test_lim, epochs=5)"
   ]
  },
  {
   "cell_type": "code",
   "execution_count": 24,
   "metadata": {},
   "outputs": [
    {
     "data": {
      "text/html": [
       "<pre style=\"white-space:pre;overflow-x:auto;line-height:normal;font-family:Menlo,'DejaVu Sans Mono',consolas,'Courier New',monospace\"><span style=\"font-weight: bold\">Model: \"sequential\"</span>\n",
       "</pre>\n"
      ],
      "text/plain": [
       "\u001b[1mModel: \"sequential\"\u001b[0m\n"
      ]
     },
     "metadata": {},
     "output_type": "display_data"
    },
    {
     "data": {
      "text/html": [
       "<pre style=\"white-space:pre;overflow-x:auto;line-height:normal;font-family:Menlo,'DejaVu Sans Mono',consolas,'Courier New',monospace\">┏━━━━━━━━━━━━━━━━━━━━━━━━━━━━━━━━━┳━━━━━━━━━━━━━━━━━━━━━━━━┳━━━━━━━━━━━━━━━┓\n",
       "┃<span style=\"font-weight: bold\"> Layer (type)                    </span>┃<span style=\"font-weight: bold\"> Output Shape           </span>┃<span style=\"font-weight: bold\">       Param # </span>┃\n",
       "┡━━━━━━━━━━━━━━━━━━━━━━━━━━━━━━━━━╇━━━━━━━━━━━━━━━━━━━━━━━━╇━━━━━━━━━━━━━━━┩\n",
       "│ conv2d (<span style=\"color: #0087ff; text-decoration-color: #0087ff\">Conv2D</span>)                 │ (<span style=\"color: #00d7ff; text-decoration-color: #00d7ff\">None</span>, <span style=\"color: #00af00; text-decoration-color: #00af00\">25</span>, <span style=\"color: #00af00; text-decoration-color: #00af00\">25</span>, <span style=\"color: #00af00; text-decoration-color: #00af00\">32</span>)     │         <span style=\"color: #00af00; text-decoration-color: #00af00\">2,080</span> │\n",
       "├─────────────────────────────────┼────────────────────────┼───────────────┤\n",
       "│ max_pooling2d (<span style=\"color: #0087ff; text-decoration-color: #0087ff\">MaxPooling2D</span>)    │ (<span style=\"color: #00d7ff; text-decoration-color: #00d7ff\">None</span>, <span style=\"color: #00af00; text-decoration-color: #00af00\">8</span>, <span style=\"color: #00af00; text-decoration-color: #00af00\">8</span>, <span style=\"color: #00af00; text-decoration-color: #00af00\">32</span>)       │             <span style=\"color: #00af00; text-decoration-color: #00af00\">0</span> │\n",
       "├─────────────────────────────────┼────────────────────────┼───────────────┤\n",
       "│ flatten (<span style=\"color: #0087ff; text-decoration-color: #0087ff\">Flatten</span>)               │ (<span style=\"color: #00d7ff; text-decoration-color: #00d7ff\">None</span>, <span style=\"color: #00af00; text-decoration-color: #00af00\">2048</span>)           │             <span style=\"color: #00af00; text-decoration-color: #00af00\">0</span> │\n",
       "├─────────────────────────────────┼────────────────────────┼───────────────┤\n",
       "│ dense (<span style=\"color: #0087ff; text-decoration-color: #0087ff\">Dense</span>)                   │ (<span style=\"color: #00d7ff; text-decoration-color: #00d7ff\">None</span>, <span style=\"color: #00af00; text-decoration-color: #00af00\">6</span>)              │        <span style=\"color: #00af00; text-decoration-color: #00af00\">12,294</span> │\n",
       "└─────────────────────────────────┴────────────────────────┴───────────────┘\n",
       "</pre>\n"
      ],
      "text/plain": [
       "┏━━━━━━━━━━━━━━━━━━━━━━━━━━━━━━━━━┳━━━━━━━━━━━━━━━━━━━━━━━━┳━━━━━━━━━━━━━━━┓\n",
       "┃\u001b[1m \u001b[0m\u001b[1mLayer (type)                   \u001b[0m\u001b[1m \u001b[0m┃\u001b[1m \u001b[0m\u001b[1mOutput Shape          \u001b[0m\u001b[1m \u001b[0m┃\u001b[1m \u001b[0m\u001b[1m      Param #\u001b[0m\u001b[1m \u001b[0m┃\n",
       "┡━━━━━━━━━━━━━━━━━━━━━━━━━━━━━━━━━╇━━━━━━━━━━━━━━━━━━━━━━━━╇━━━━━━━━━━━━━━━┩\n",
       "│ conv2d (\u001b[38;5;33mConv2D\u001b[0m)                 │ (\u001b[38;5;45mNone\u001b[0m, \u001b[38;5;34m25\u001b[0m, \u001b[38;5;34m25\u001b[0m, \u001b[38;5;34m32\u001b[0m)     │         \u001b[38;5;34m2,080\u001b[0m │\n",
       "├─────────────────────────────────┼────────────────────────┼───────────────┤\n",
       "│ max_pooling2d (\u001b[38;5;33mMaxPooling2D\u001b[0m)    │ (\u001b[38;5;45mNone\u001b[0m, \u001b[38;5;34m8\u001b[0m, \u001b[38;5;34m8\u001b[0m, \u001b[38;5;34m32\u001b[0m)       │             \u001b[38;5;34m0\u001b[0m │\n",
       "├─────────────────────────────────┼────────────────────────┼───────────────┤\n",
       "│ flatten (\u001b[38;5;33mFlatten\u001b[0m)               │ (\u001b[38;5;45mNone\u001b[0m, \u001b[38;5;34m2048\u001b[0m)           │             \u001b[38;5;34m0\u001b[0m │\n",
       "├─────────────────────────────────┼────────────────────────┼───────────────┤\n",
       "│ dense (\u001b[38;5;33mDense\u001b[0m)                   │ (\u001b[38;5;45mNone\u001b[0m, \u001b[38;5;34m6\u001b[0m)              │        \u001b[38;5;34m12,294\u001b[0m │\n",
       "└─────────────────────────────────┴────────────────────────┴───────────────┘\n"
      ]
     },
     "metadata": {},
     "output_type": "display_data"
    },
    {
     "data": {
      "text/html": [
       "<pre style=\"white-space:pre;overflow-x:auto;line-height:normal;font-family:Menlo,'DejaVu Sans Mono',consolas,'Courier New',monospace\"><span style=\"font-weight: bold\"> Total params: </span><span style=\"color: #00af00; text-decoration-color: #00af00\">43,124</span> (168.46 KB)\n",
       "</pre>\n"
      ],
      "text/plain": [
       "\u001b[1m Total params: \u001b[0m\u001b[38;5;34m43,124\u001b[0m (168.46 KB)\n"
      ]
     },
     "metadata": {},
     "output_type": "display_data"
    },
    {
     "data": {
      "text/html": [
       "<pre style=\"white-space:pre;overflow-x:auto;line-height:normal;font-family:Menlo,'DejaVu Sans Mono',consolas,'Courier New',monospace\"><span style=\"font-weight: bold\"> Trainable params: </span><span style=\"color: #00af00; text-decoration-color: #00af00\">14,374</span> (56.15 KB)\n",
       "</pre>\n"
      ],
      "text/plain": [
       "\u001b[1m Trainable params: \u001b[0m\u001b[38;5;34m14,374\u001b[0m (56.15 KB)\n"
      ]
     },
     "metadata": {},
     "output_type": "display_data"
    },
    {
     "data": {
      "text/html": [
       "<pre style=\"white-space:pre;overflow-x:auto;line-height:normal;font-family:Menlo,'DejaVu Sans Mono',consolas,'Courier New',monospace\"><span style=\"font-weight: bold\"> Non-trainable params: </span><span style=\"color: #00af00; text-decoration-color: #00af00\">0</span> (0.00 B)\n",
       "</pre>\n"
      ],
      "text/plain": [
       "\u001b[1m Non-trainable params: \u001b[0m\u001b[38;5;34m0\u001b[0m (0.00 B)\n"
      ]
     },
     "metadata": {},
     "output_type": "display_data"
    },
    {
     "data": {
      "text/html": [
       "<pre style=\"white-space:pre;overflow-x:auto;line-height:normal;font-family:Menlo,'DejaVu Sans Mono',consolas,'Courier New',monospace\"><span style=\"font-weight: bold\"> Optimizer params: </span><span style=\"color: #00af00; text-decoration-color: #00af00\">28,750</span> (112.31 KB)\n",
       "</pre>\n"
      ],
      "text/plain": [
       "\u001b[1m Optimizer params: \u001b[0m\u001b[38;5;34m28,750\u001b[0m (112.31 KB)\n"
      ]
     },
     "metadata": {},
     "output_type": "display_data"
    }
   ],
   "source": [
    "modelv1.summary()"
   ]
  },
  {
   "cell_type": "code",
   "execution_count": 30,
   "metadata": {},
   "outputs": [],
   "source": [
    "def fgsm_attack(model, images, labels, epsilon):\n",
    "    # Enable gradient tape for automatic differentiation\n",
    "    with tf.GradientTape() as tape:\n",
    "        # Cast images to float32 if they are not already\n",
    "        images = tf.convert_to_tensor(images, dtype=tf.float32)\n",
    "        # Make the model predictions\n",
    "        tape.watch(images)\n",
    "        predictions = model(images, training=True)\n",
    "        # print(predictions)\n",
    "        # Calculate the loss\n",
    "        loss = tf.keras.losses.sparse_categorical_crossentropy(labels, predictions)\n",
    "        loss = tf.reduce_mean(loss)\n",
    "        print(loss)\n",
    "\n",
    "    # Calculate gradients of the loss with respect to the input image\n",
    "    gradients = tape.gradient(loss, images)\n",
    "\n",
    "    if gradients is None:\n",
    "        raise ValueError('NO GRAD')\n",
    "    # print(gradients)\n",
    "    # Get the sign of the gradients\n",
    "    signed_gradients = tf.sign(gradients)\n",
    "    # Create the adversarial images\n",
    "    adversarial_images = images + epsilon * signed_gradients\n",
    "    # Clip the values to maintain valid pixel range\n",
    "    # adversarial_images = tf.clip_by_value(adversarial_images, 0, 1)  # Adjust based on normalization\n",
    "\n",
    "    return adversarial_images"
   ]
  },
  {
   "cell_type": "code",
   "execution_count": 35,
   "metadata": {},
   "outputs": [
    {
     "name": "stdout",
     "output_type": "stream",
     "text": [
      "tf.Tensor(0.27918196, shape=(), dtype=float32)\n"
     ]
    }
   ],
   "source": [
    "adversarial_images = fgsm_attack(modelv1, x_test_lim, y_test_lim, epsilon)"
   ]
  },
  {
   "cell_type": "code",
   "execution_count": null,
   "metadata": {},
   "outputs": [],
   "source": [
    "epsilon = 0.5"
   ]
  },
  {
   "cell_type": "code",
   "execution_count": 36,
   "metadata": {},
   "outputs": [
    {
     "name": "stdout",
     "output_type": "stream",
     "text": [
      "\u001b[1m157/157\u001b[0m \u001b[32m━━━━━━━━━━━━━━━━━━━━\u001b[0m\u001b[37m\u001b[0m \u001b[1m0s\u001b[0m 2ms/step - accuracy: 0.8799 - loss: 0.3658\n",
      "Adversarial acc: 0.8794000148773193\n"
     ]
    }
   ],
   "source": [
    "loss,accuracy = modelv1.evaluate(adversarial_images, y_test_lim)\n",
    "print(f\"Adversarial acc: {accuracy}\")"
   ]
  },
  {
   "cell_type": "code",
   "execution_count": 37,
   "metadata": {},
   "outputs": [
    {
     "data": {
      "text/plain": [
       "array([[[[ 95,  91,  61, 157],\n",
       "         [105, 113, 101, 179],\n",
       "         [ 50,  35,  24, 124],\n",
       "         ...,\n",
       "         [ 54,  56,  35, 128],\n",
       "         [ 72,  82,  80, 149],\n",
       "         [ 83,  88,  80, 161]],\n",
       "\n",
       "        [[ 86,  82,  58, 146],\n",
       "         [ 90,  96,  77, 161],\n",
       "         [ 85,  93,  62, 159],\n",
       "         ...,\n",
       "         [ 56,  57,  45, 127],\n",
       "         [ 60,  59,  50, 124],\n",
       "         [ 65,  64,  36, 129]],\n",
       "\n",
       "        [[122, 139, 137, 199],\n",
       "         [ 90,  95,  74, 162],\n",
       "         [113, 126, 116, 191],\n",
       "         ...,\n",
       "         [ 59,  59,  65, 127],\n",
       "         [ 55,  51,  35, 112],\n",
       "         [ 83,  88,  66, 142]],\n",
       "\n",
       "        ...,\n",
       "\n",
       "        [[ 92,  96,  84, 172],\n",
       "         [ 83,  95,  90, 175],\n",
       "         [ 52,  47,  28, 128],\n",
       "         ...,\n",
       "         [ 57,  57,  43, 127],\n",
       "         [ 56,  53,  34, 133],\n",
       "         [ 59,  56,  24, 144]],\n",
       "\n",
       "        [[ 93,  99,  85, 176],\n",
       "         [ 86,  96,  96, 171],\n",
       "         [ 53,  48,  31, 125],\n",
       "         ...,\n",
       "         [ 67,  66,  44, 131],\n",
       "         [ 77,  79,  66, 156],\n",
       "         [ 87,  89,  81, 171]],\n",
       "\n",
       "        [[105, 114, 108, 193],\n",
       "         [ 67,  65,  48, 148],\n",
       "         [ 62,  62,  56, 124],\n",
       "         ...,\n",
       "         [107, 122, 107, 181],\n",
       "         [118, 137, 127, 205],\n",
       "         [ 90, 105,  86, 183]]],\n",
       "\n",
       "\n",
       "       [[[102, 102, 103, 137],\n",
       "         [108, 110, 116, 154],\n",
       "         [ 88,  83,  70, 122],\n",
       "         ...,\n",
       "         [ 91,  89,  92, 110],\n",
       "         [ 96,  96, 100, 118],\n",
       "         [ 87,  86,  86, 108]],\n",
       "\n",
       "        [[ 83,  79,  75, 103],\n",
       "         [ 87,  84,  77, 114],\n",
       "         [ 91,  84,  73, 118],\n",
       "         ...,\n",
       "         [ 93,  92,  93, 109],\n",
       "         [ 92,  91,  95, 112],\n",
       "         [ 90,  89,  90, 111]],\n",
       "\n",
       "        [[ 90,  84,  84, 109],\n",
       "         [ 88,  79,  76, 105],\n",
       "         [ 90,  80,  76, 113],\n",
       "         ...,\n",
       "         [ 95,  92,  94, 113],\n",
       "         [103, 101, 111, 127],\n",
       "         [ 95,  93,  95, 118]],\n",
       "\n",
       "        ...,\n",
       "\n",
       "        [[ 95,  89,  83, 133],\n",
       "         [ 95,  88,  81, 132],\n",
       "         [ 92,  85,  76, 130],\n",
       "         ...,\n",
       "         [ 93,  86,  70, 140],\n",
       "         [ 84,  77,  57, 122],\n",
       "         [ 90,  84,  75, 127]],\n",
       "\n",
       "        [[ 98,  94,  94, 135],\n",
       "         [ 96,  92,  91, 136],\n",
       "         [ 97,  92,  89, 138],\n",
       "         ...,\n",
       "         [105, 107, 100, 169],\n",
       "         [106, 106, 101, 165],\n",
       "         [ 93,  89,  79, 135]],\n",
       "\n",
       "        [[ 93,  91,  91, 126],\n",
       "         [ 92,  89,  88, 127],\n",
       "         [ 93,  89,  86, 127],\n",
       "         ...,\n",
       "         [101,  99,  91, 157],\n",
       "         [ 95,  92,  84, 143],\n",
       "         [ 89,  85,  76, 130]]],\n",
       "\n",
       "\n",
       "       [[[ 47,  54,  95,  10],\n",
       "         [ 79,  89, 108,  15],\n",
       "         [ 96, 131, 118,  23],\n",
       "         ...,\n",
       "         [ 45,  62,  91,   9],\n",
       "         [ 38,  45,  87,   8],\n",
       "         [ 59,  81, 104,  11]],\n",
       "\n",
       "        [[ 32,  39,  89,   7],\n",
       "         [ 44,  56, 103,   9],\n",
       "         [ 48,  73, 108,  10],\n",
       "         ...,\n",
       "         [ 39,  53,  90,   8],\n",
       "         [ 34,  45,  86,   7],\n",
       "         [ 40,  62,  94,   9]],\n",
       "\n",
       "        [[ 34,  53,  87,   7],\n",
       "         [ 38,  73,  95,   9],\n",
       "         [ 36,  56, 103,   8],\n",
       "         ...,\n",
       "         [ 38,  57,  92,   9],\n",
       "         [ 30,  42,  89,   7],\n",
       "         [ 35,  42,  89,   8]],\n",
       "\n",
       "        ...,\n",
       "\n",
       "        [[ 43,  53, 106,  10],\n",
       "         [ 51,  79, 112,  12],\n",
       "         [ 58,  68, 114,  11],\n",
       "         ...,\n",
       "         [ 79,  92, 113,  15],\n",
       "         [ 79,  90, 123,  17],\n",
       "         [ 83, 112, 118,  20]],\n",
       "\n",
       "        [[ 52,  67, 114,  14],\n",
       "         [ 77, 111, 118,  21],\n",
       "         [102, 130, 132,  35],\n",
       "         ...,\n",
       "         [103, 146, 118,  29],\n",
       "         [123, 162, 122,  39],\n",
       "         [100, 107, 116,  26]],\n",
       "\n",
       "        [[ 85, 159, 127,  24],\n",
       "         [ 86,  81, 121,  20],\n",
       "         [113, 134, 135,  35],\n",
       "         ...,\n",
       "         [ 69, 100, 118,  17],\n",
       "         [ 82,  98, 125,  18],\n",
       "         [ 61,  69, 113,  13]]],\n",
       "\n",
       "\n",
       "       ...,\n",
       "\n",
       "\n",
       "       [[[ 72,  64, 112,  13],\n",
       "         [ 80,  94, 109,  15],\n",
       "         [ 75,  98, 117,  15],\n",
       "         ...,\n",
       "         [134, 123, 146,  39],\n",
       "         [148, 175, 148,  48],\n",
       "         [133, 150, 143,  42]],\n",
       "\n",
       "        [[ 67,  75, 115,  14],\n",
       "         [ 76,  92, 116,  16],\n",
       "         [ 78, 119, 116,  18],\n",
       "         ...,\n",
       "         [110, 134, 147,  32],\n",
       "         [118, 129, 149,  36],\n",
       "         [110, 145, 140,  35]],\n",
       "\n",
       "        [[ 76, 109, 121,  18],\n",
       "         [ 54,  55, 109,  12],\n",
       "         [ 39,  55, 117,  10],\n",
       "         ...,\n",
       "         [108, 128, 140,  26],\n",
       "         [109, 115, 143,  25],\n",
       "         [ 78,  85, 136,  17]],\n",
       "\n",
       "        ...,\n",
       "\n",
       "        [[ 56,  55, 100,  11],\n",
       "         [ 94, 110, 115,  19],\n",
       "         [100, 112, 132,  22],\n",
       "         ...,\n",
       "         [142, 151, 155,  47],\n",
       "         [150, 186, 154,  52],\n",
       "         [117, 131, 142,  32]],\n",
       "\n",
       "        [[ 45,  73, 106,  10],\n",
       "         [ 58,  90, 116,  12],\n",
       "         [ 67, 100, 121,  13],\n",
       "         ...,\n",
       "         [155, 166, 156,  55],\n",
       "         [138, 155, 153,  46],\n",
       "         [134, 137, 143,  38]],\n",
       "\n",
       "        [[ 79, 119, 118,  17],\n",
       "         [ 60,  66, 111,  13],\n",
       "         [ 50,  72, 111,  11],\n",
       "         ...,\n",
       "         [133, 151, 152,  40],\n",
       "         [129, 132, 148,  40],\n",
       "         [131, 123, 143,  38]]],\n",
       "\n",
       "\n",
       "       [[[ 77, 120, 109,  18],\n",
       "         [ 65, 107, 105,  12],\n",
       "         [ 36,  36,  88,   9],\n",
       "         ...,\n",
       "         [ 26,  36,  87,   5],\n",
       "         [ 31,  35,  90,   6],\n",
       "         [ 37,  40,  83,   7]],\n",
       "\n",
       "        [[ 64,  97, 102,  12],\n",
       "         [ 61,  78,  99,  10],\n",
       "         [ 39,  46,  87,   7],\n",
       "         ...,\n",
       "         [ 38,  62,  82,   7],\n",
       "         [ 70,  95,  86,  11],\n",
       "         [ 95, 115,  96,  14]],\n",
       "\n",
       "        [[ 49,  68, 106,  10],\n",
       "         [ 55,  67,  97,   9],\n",
       "         [ 39,  63,  87,   8],\n",
       "         ...,\n",
       "         [ 27,  45,  81,   7],\n",
       "         [ 46,  91,  92,  10],\n",
       "         [ 64, 118, 102,  12]],\n",
       "\n",
       "        ...,\n",
       "\n",
       "        [[ 59,  64, 119,  16],\n",
       "         [ 89,  77, 127,  24],\n",
       "         [134, 154, 137,  35],\n",
       "         ...,\n",
       "         [ 33,  72,  81,   7],\n",
       "         [ 21,  54,  69,   5],\n",
       "         [ 17,  26,  69,   4]],\n",
       "\n",
       "        [[ 84,  76, 118,  19],\n",
       "         [132, 144, 128,  32],\n",
       "         [140, 157, 133,  34],\n",
       "         ...,\n",
       "         [ 36,  64,  77,   6],\n",
       "         [ 16,  36,  70,   4],\n",
       "         [ 14,  21,  64,   4]],\n",
       "\n",
       "        [[ 87,  95, 114,  18],\n",
       "         [117, 130, 129,  25],\n",
       "         [114, 126, 131,  24],\n",
       "         ...,\n",
       "         [ 21,  43,  77,   5],\n",
       "         [ 14,  27,  68,   4],\n",
       "         [ 13,  22,  66,   4]]],\n",
       "\n",
       "\n",
       "       [[[ 64,  87,  87,  14],\n",
       "         [ 97, 121, 107,  22],\n",
       "         [ 94, 111, 115,  20],\n",
       "         ...,\n",
       "         [ 43,  47, 116,  10],\n",
       "         [ 51,  52, 122,   9],\n",
       "         [ 57,  43, 104,  10]],\n",
       "\n",
       "        [[ 43,  46,  79,   9],\n",
       "         [ 67,  75, 102,  14],\n",
       "         [ 87,  96, 106,  16],\n",
       "         ...,\n",
       "         [ 81,  99, 117,  17],\n",
       "         [ 93, 105, 124,  18],\n",
       "         [ 80,  73, 108,  14]],\n",
       "\n",
       "        [[ 28,  37,  79,   6],\n",
       "         [ 32,  36,  85,   7],\n",
       "         [ 49,  42,  97,  10],\n",
       "         ...,\n",
       "         [147, 180, 120,  41],\n",
       "         [145, 145, 129,  31],\n",
       "         [124, 110, 105,  19]],\n",
       "\n",
       "        ...,\n",
       "\n",
       "        [[ 33,  45,  90,   7],\n",
       "         [ 29,  39,  91,   7],\n",
       "         [ 42,  58,  93,   8],\n",
       "         ...,\n",
       "         [ 46,  82,  83,   9],\n",
       "         [ 27,  37,  73,   7],\n",
       "         [ 28,  44,  72,   6]],\n",
       "\n",
       "        [[ 48,  52,  91,   8],\n",
       "         [ 58,  93,  91,  11],\n",
       "         [ 72, 138,  96,  15],\n",
       "         ...,\n",
       "         [ 61, 105,  93,  12],\n",
       "         [ 42,  62,  83,   8],\n",
       "         [ 37,  59,  83,   7]],\n",
       "\n",
       "        [[ 58,  72,  91,  11],\n",
       "         [ 61,  82,  91,  12],\n",
       "         [ 64,  66, 102,  13],\n",
       "         ...,\n",
       "         [ 43,  67, 103,  12],\n",
       "         [ 32,  54,  81,  10],\n",
       "         [ 35,  43,  78,   9]]]], dtype=uint8)"
      ]
     },
     "execution_count": 37,
     "metadata": {},
     "output_type": "execute_result"
    }
   ],
   "source": [
    "x_test_lim"
   ]
  },
  {
   "cell_type": "code",
   "execution_count": 38,
   "metadata": {},
   "outputs": [
    {
     "data": {
      "text/plain": [
       "<tf.Tensor: shape=(5000, 28, 28, 4), dtype=float32, numpy=\n",
       "array([[[[ 95. ,  91. ,  61. , 157. ],\n",
       "         [104.9, 113.1, 101.1, 178.9],\n",
       "         [ 50.1,  35.1,  23.9, 123.9],\n",
       "         ...,\n",
       "         [ 53.9,  56.1,  35.1, 128.1],\n",
       "         [ 72.1,  82.1,  80.1, 149.1],\n",
       "         [ 83. ,  88. ,  80. , 161. ]],\n",
       "\n",
       "        [[ 86. ,  82. ,  58. , 146. ],\n",
       "         [ 89.9,  95.9,  76.9, 161.1],\n",
       "         [ 85.1,  93.1,  61.9, 159.1],\n",
       "         ...,\n",
       "         [ 55.9,  56.9,  45.1, 127.1],\n",
       "         [ 59.9,  59.1,  50.1, 123.9],\n",
       "         [ 65. ,  64. ,  36. , 129. ]],\n",
       "\n",
       "        [[122. , 139. , 137. , 199. ],\n",
       "         [ 89.9,  95.1,  73.9, 161.9],\n",
       "         [112.9, 126.1, 115.9, 191.1],\n",
       "         ...,\n",
       "         [ 59.1,  58.9,  64.9, 127.1],\n",
       "         [ 54.9,  51.1,  34.9, 111.9],\n",
       "         [ 83. ,  88. ,  66. , 142. ]],\n",
       "\n",
       "        ...,\n",
       "\n",
       "        [[ 92. ,  96. ,  84. , 172. ],\n",
       "         [ 83.1,  95.1,  89.9, 174.9],\n",
       "         [ 51.9,  47.1,  28.1, 127.9],\n",
       "         ...,\n",
       "         [ 56.9,  57.1,  42.9, 126.9],\n",
       "         [ 56. ,  53. ,  34. , 133. ],\n",
       "         [ 59. ,  56. ,  24. , 144. ]],\n",
       "\n",
       "        [[ 93. ,  99. ,  85. , 176. ],\n",
       "         [ 85.9,  95.9,  95.9, 170.9],\n",
       "         [ 53.1,  47.9,  30.9, 124.9],\n",
       "         ...,\n",
       "         [ 66.9,  65.9,  43.9, 131.1],\n",
       "         [ 77. ,  79. ,  66. , 156. ],\n",
       "         [ 87. ,  89. ,  81. , 171. ]],\n",
       "\n",
       "        [[105. , 114. , 108. , 193. ],\n",
       "         [ 67. ,  65. ,  48. , 148. ],\n",
       "         [ 62. ,  62. ,  56. , 124. ],\n",
       "         ...,\n",
       "         [107. , 122. , 107. , 181. ],\n",
       "         [118. , 137. , 127. , 205. ],\n",
       "         [ 90. , 105. ,  86. , 183. ]]],\n",
       "\n",
       "\n",
       "       [[[102. , 102. , 103. , 137. ],\n",
       "         [108. , 110. , 116. , 154. ],\n",
       "         [ 88.1,  83.1,  70.1, 122.1],\n",
       "         ...,\n",
       "         [ 90.9,  89.1,  92.1, 110.1],\n",
       "         [ 96. ,  96. , 100. , 118. ],\n",
       "         [ 87. ,  86. ,  86. , 108. ]],\n",
       "\n",
       "        [[ 83.1,  79.1,  74.9, 102.9],\n",
       "         [ 87.1,  84.1,  76.9, 114.1],\n",
       "         [ 90.9,  84.1,  72.9, 117.9],\n",
       "         ...,\n",
       "         [ 92.9,  91.9,  93.1, 109.1],\n",
       "         [ 92. ,  91. ,  95. , 112. ],\n",
       "         [ 90. ,  89. ,  90. , 111. ]],\n",
       "\n",
       "        [[ 90.1,  83.9,  83.9, 109.1],\n",
       "         [ 88.1,  79.1,  75.9, 104.9],\n",
       "         [ 90.1,  79.9,  76.1, 113.1],\n",
       "         ...,\n",
       "         [ 95.1,  91.9,  93.9, 113.1],\n",
       "         [103. , 101. , 111. , 127. ],\n",
       "         [ 95. ,  93. ,  95. , 118. ]],\n",
       "\n",
       "        ...,\n",
       "\n",
       "        [[ 95. ,  89. ,  83. , 133. ],\n",
       "         [ 95.1,  87.9,  81.1, 132.1],\n",
       "         [ 92.1,  85.1,  76.1, 129.9],\n",
       "         ...,\n",
       "         [ 92.9,  86.1,  70.1, 140.1],\n",
       "         [ 83.9,  77.1,  57.1, 122.1],\n",
       "         [ 90. ,  84. ,  75. , 127. ]],\n",
       "\n",
       "        [[ 98. ,  94. ,  94. , 135. ],\n",
       "         [ 95.9,  91.9,  91.1, 135.9],\n",
       "         [ 96.9,  92.1,  88.9, 137.9],\n",
       "         ...,\n",
       "         [104.9, 106.9, 100.1, 168.9],\n",
       "         [106.1, 106.1, 101.1, 164.9],\n",
       "         [ 93. ,  89. ,  79. , 135. ]],\n",
       "\n",
       "        [[ 93. ,  91. ,  91. , 126. ],\n",
       "         [ 92. ,  89. ,  88. , 127. ],\n",
       "         [ 93. ,  89. ,  86. , 127. ],\n",
       "         ...,\n",
       "         [101. ,  99. ,  91. , 157. ],\n",
       "         [ 95. ,  92. ,  84. , 143. ],\n",
       "         [ 89. ,  85. ,  76. , 130. ]]],\n",
       "\n",
       "\n",
       "       [[[ 47.1,  54.1,  94.9,   9.9],\n",
       "         [ 78.9,  88.9, 107.9,  14.9],\n",
       "         [ 95.9, 131.1, 117.9,  22.9],\n",
       "         ...,\n",
       "         [ 45.1,  61.9,  90.9,   8.9],\n",
       "         [ 37.9,  45.1,  86.9,   7.9],\n",
       "         [ 59. ,  81. , 104. ,  11. ]],\n",
       "\n",
       "        [[ 32.1,  39.1,  88.9,   7.1],\n",
       "         [ 43.9,  55.9, 103.1,   8.9],\n",
       "         [ 48.1,  73.1, 107.9,  10.1],\n",
       "         ...,\n",
       "         [ 39.1,  53.1,  89.9,   8.1],\n",
       "         [ 34.1,  45.1,  85.9,   7.1],\n",
       "         [ 40. ,  62. ,  94. ,   9. ]],\n",
       "\n",
       "        [[ 34.1,  53.1,  86.9,   7.1],\n",
       "         [ 37.9,  73.1,  94.9,   9.1],\n",
       "         [ 36.1,  56.1, 103.1,   7.9],\n",
       "         ...,\n",
       "         [ 38.1,  56.9,  92.1,   8.9],\n",
       "         [ 30.1,  42.1,  89.1,   7.1],\n",
       "         [ 35. ,  42. ,  89. ,   8. ]],\n",
       "\n",
       "        ...,\n",
       "\n",
       "        [[ 42.9,  52.9, 105.9,   9.9],\n",
       "         [ 51.1,  79.1, 111.9,  12.1],\n",
       "         [ 57.9,  68.1, 114.1,  10.9],\n",
       "         ...,\n",
       "         [ 79.1,  91.9, 112.9,  15.1],\n",
       "         [ 79.1,  89.9, 123.1,  16.9],\n",
       "         [ 83. , 112. , 118. ,  20. ]],\n",
       "\n",
       "        [[ 52. ,  67. , 114. ,  14. ],\n",
       "         [ 76.9, 111.1, 117.9,  20.9],\n",
       "         [102.1, 129.9, 131.9,  34.9],\n",
       "         ...,\n",
       "         [103.1, 146.1, 117.9,  29.1],\n",
       "         [122.9, 161.9, 121.9,  39.1],\n",
       "         [100. , 107. , 116. ,  26. ]],\n",
       "\n",
       "        [[ 85. , 159. , 127. ,  24. ],\n",
       "         [ 86. ,  81. , 121. ,  20. ],\n",
       "         [113. , 134. , 135. ,  35. ],\n",
       "         ...,\n",
       "         [ 69. , 100. , 118. ,  17. ],\n",
       "         [ 82. ,  98. , 125. ,  18. ],\n",
       "         [ 61. ,  69. , 113. ,  13. ]]],\n",
       "\n",
       "\n",
       "       ...,\n",
       "\n",
       "\n",
       "       [[[ 72.1,  64.1, 111.9,  12.9],\n",
       "         [ 80.1,  94.1, 108.9,  15.1],\n",
       "         [ 74.9,  98.1, 117.1,  14.9],\n",
       "         ...,\n",
       "         [134. , 123. , 146. ,  39. ],\n",
       "         [148. , 175. , 148. ,  48. ],\n",
       "         [133. , 150. , 143. ,  42. ]],\n",
       "\n",
       "        [[ 67.1,  75.1, 114.9,  13.9],\n",
       "         [ 75.9,  92.1, 115.9,  15.9],\n",
       "         [ 77.9, 118.9, 115.9,  18.1],\n",
       "         ...,\n",
       "         [110. , 134. , 147. ,  32. ],\n",
       "         [118. , 129. , 149. ,  36. ],\n",
       "         [110. , 145. , 140. ,  35. ]],\n",
       "\n",
       "        [[ 76.1, 108.9, 121.1,  18.1],\n",
       "         [ 54.1,  55.1, 108.9,  12.1],\n",
       "         [ 38.9,  54.9, 116.9,   9.9],\n",
       "         ...,\n",
       "         [107.9, 128.1, 139.9,  25.9],\n",
       "         [109.1, 115.1, 143.1,  25.1],\n",
       "         [ 78. ,  85. , 136. ,  17. ]],\n",
       "\n",
       "        ...,\n",
       "\n",
       "        [[ 56.1,  55.1,  99.9,  11.1],\n",
       "         [ 93.9, 110.1, 115.1,  18.9],\n",
       "         [100.1, 112.1, 132.1,  22.1],\n",
       "         ...,\n",
       "         [142.1, 151.1, 154.9,  46.9],\n",
       "         [149.9, 186.1, 154.1,  51.9],\n",
       "         [117. , 131. , 142. ,  32. ]],\n",
       "\n",
       "        [[ 44.9,  72.9, 106.1,   9.9],\n",
       "         [ 57.9,  90.1, 115.9,  12.1],\n",
       "         [ 66.9, 100.1, 120.9,  12.9],\n",
       "         ...,\n",
       "         [155.1, 165.9, 155.9,  55.1],\n",
       "         [137.9, 154.9, 153.1,  46.1],\n",
       "         [134. , 137. , 143. ,  38. ]],\n",
       "\n",
       "        [[ 79. , 119. , 118. ,  17. ],\n",
       "         [ 60. ,  66. , 111. ,  13. ],\n",
       "         [ 50. ,  72. , 111. ,  11. ],\n",
       "         ...,\n",
       "         [133. , 151. , 152. ,  40. ],\n",
       "         [129. , 132. , 148. ,  40. ],\n",
       "         [131. , 123. , 143. ,  38. ]]],\n",
       "\n",
       "\n",
       "       [[[ 77.1, 119.9, 109.1,  17.9],\n",
       "         [ 65.1, 107.1, 105.1,  11.9],\n",
       "         [ 35.9,  36.1,  87.9,   9.1],\n",
       "         ...,\n",
       "         [ 25.9,  35.9,  87.1,   4.9],\n",
       "         [ 31.1,  34.9,  90.1,   6.1],\n",
       "         [ 37. ,  40. ,  83. ,   7. ]],\n",
       "\n",
       "        [[ 63.9,  97.1, 102.1,  11.9],\n",
       "         [ 60.9,  78.1,  98.9,   9.9],\n",
       "         [ 39.1,  45.9,  87.1,   6.9],\n",
       "         ...,\n",
       "         [ 38.1,  61.9,  81.9,   6.9],\n",
       "         [ 70.1,  95.1,  86.1,  11.1],\n",
       "         [ 95. , 115. ,  96. ,  14. ]],\n",
       "\n",
       "        [[ 48.9,  67.9, 105.9,  10.1],\n",
       "         [ 55.1,  66.9,  96.9,   8.9],\n",
       "         [ 39.1,  63.1,  86.9,   8.1],\n",
       "         ...,\n",
       "         [ 26.9,  45.1,  80.9,   6.9],\n",
       "         [ 46.1,  90.9,  91.9,   9.9],\n",
       "         [ 64. , 118. , 102. ,  12. ]],\n",
       "\n",
       "        ...,\n",
       "\n",
       "        [[ 59.1,  64.1, 118.9,  16.1],\n",
       "         [ 88.9,  77.1, 127.1,  23.9],\n",
       "         [134.1, 154.1, 136.9,  34.9],\n",
       "         ...,\n",
       "         [ 33.1,  72.1,  80.9,   6.9],\n",
       "         [ 21.1,  53.9,  68.9,   5.1],\n",
       "         [ 17. ,  26. ,  69. ,   4. ]],\n",
       "\n",
       "        [[ 83.9,  75.9, 118.1,  18.9],\n",
       "         [131.9, 144.1, 127.9,  32.1],\n",
       "         [139.9, 157.1, 133.1,  33.9],\n",
       "         ...,\n",
       "         [ 35.9,  63.9,  77.1,   5.9],\n",
       "         [ 16. ,  36. ,  70. ,   4. ],\n",
       "         [ 14. ,  21. ,  64. ,   4. ]],\n",
       "\n",
       "        [[ 87. ,  95. , 114. ,  18. ],\n",
       "         [117. , 130. , 129. ,  25. ],\n",
       "         [114. , 126. , 131. ,  24. ],\n",
       "         ...,\n",
       "         [ 21. ,  43. ,  77. ,   5. ],\n",
       "         [ 14. ,  27. ,  68. ,   4. ],\n",
       "         [ 13. ,  22. ,  66. ,   4. ]]],\n",
       "\n",
       "\n",
       "       [[[ 64.1,  87.1,  86.9,  13.9],\n",
       "         [ 96.9, 120.9, 107.1,  22.1],\n",
       "         [ 94.1, 111.1, 114.9,  20.1],\n",
       "         ...,\n",
       "         [ 42.9,  47.1, 115.9,   9.9],\n",
       "         [ 51.1,  51.9, 122.1,   9.1],\n",
       "         [ 57. ,  43. , 104. ,  10. ]],\n",
       "\n",
       "        [[ 43.1,  46.1,  78.9,   9.1],\n",
       "         [ 67.1,  74.9, 101.9,  13.9],\n",
       "         [ 87.1,  96.1, 105.9,  16.1],\n",
       "         ...,\n",
       "         [ 81.1,  98.9, 116.9,  17.1],\n",
       "         [ 93.1, 104.9, 124.1,  18.1],\n",
       "         [ 80. ,  73. , 108. ,  14. ]],\n",
       "\n",
       "        [[ 28.1,  37.1,  78.9,   6.1],\n",
       "         [ 31.9,  36.1,  85.1,   7.1],\n",
       "         [ 48.9,  42.1,  96.9,   9.9],\n",
       "         ...,\n",
       "         [146.9, 180.1, 119.9,  40.9],\n",
       "         [145.1, 144.9, 129.1,  30.9],\n",
       "         [124. , 110. , 105. ,  19. ]],\n",
       "\n",
       "        ...,\n",
       "\n",
       "        [[ 32.9,  45.1,  89.9,   6.9],\n",
       "         [ 29.1,  38.9,  90.9,   6.9],\n",
       "         [ 42.1,  57.9,  93.1,   7.9],\n",
       "         ...,\n",
       "         [ 45.9,  82.1,  83.1,   8.9],\n",
       "         [ 27.1,  36.9,  72.9,   6.9],\n",
       "         [ 28. ,  44. ,  72. ,   6. ]],\n",
       "\n",
       "        [[ 48.1,  52.1,  90.9,   8.1],\n",
       "         [ 58.1,  93.1,  90.9,  11.1],\n",
       "         [ 72.1, 138.1,  96.1,  14.9],\n",
       "         ...,\n",
       "         [ 60.9, 104.9,  93.1,  12.1],\n",
       "         [ 42.1,  62.1,  83.1,   8.1],\n",
       "         [ 37. ,  59. ,  83. ,   7. ]],\n",
       "\n",
       "        [[ 58. ,  72. ,  91. ,  11. ],\n",
       "         [ 61. ,  82. ,  91. ,  12. ],\n",
       "         [ 64. ,  66. , 102. ,  13. ],\n",
       "         ...,\n",
       "         [ 43. ,  67. , 103. ,  12. ],\n",
       "         [ 32. ,  54. ,  81. ,  10. ],\n",
       "         [ 35. ,  43. ,  78. ,   9. ]]]], dtype=float32)>"
      ]
     },
     "execution_count": 38,
     "metadata": {},
     "output_type": "execute_result"
    }
   ],
   "source": [
    "adversarial_images"
   ]
  },
  {
   "cell_type": "code",
   "execution_count": null,
   "metadata": {},
   "outputs": [],
   "source": [
    "# # Custom training loop\n",
    "# for epoch in range(num_epochs):\n",
    "#     for images, labels in train_dataset:  # Assuming you have a training dataset\n",
    "#         # Generate adversarial examples\n",
    "#         adversarial_images = fgsm_attack(model, images, labels, epsilon)\n",
    "\n",
    "#         # Combine clean and adversarial images for training (if desired)\n",
    "#         combined_images = tf.concat([images, adversarial_images], axis=0)\n",
    "#         combined_labels = tf.concat([labels, labels], axis=0)  # Repeat labels\n",
    "\n",
    "#         # Train the model\n",
    "#         model.train_on_batch(combined_images, combined_labels)"
   ]
  }
 ],
 "metadata": {
  "kernelspec": {
   "display_name": "tools1",
   "language": "python",
   "name": "python3"
  },
  "language_info": {
   "codemirror_mode": {
    "name": "ipython",
    "version": 3
   },
   "file_extension": ".py",
   "mimetype": "text/x-python",
   "name": "python",
   "nbconvert_exporter": "python",
   "pygments_lexer": "ipython3",
   "version": "3.12.5"
  }
 },
 "nbformat": 4,
 "nbformat_minor": 2
}
