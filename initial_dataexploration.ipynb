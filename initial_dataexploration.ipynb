{
 "cells": [
  {
   "cell_type": "code",
   "execution_count": 2,
   "metadata": {},
   "outputs": [],
   "source": [
    "import pandas as pd\n",
    "import numpy as np\n",
    "import matplotlib.pyplot as plt\n",
    "import tensorflow as tf\n",
    "from sklearn.model_selection import train_test_split\n",
    "from datetime import datetime\n",
    "from tensorflow.keras.callbacks import EarlyStopping, ModelCheckpoint\n",
    "\n",
    "%matplotlib inline"
   ]
  },
  {
   "cell_type": "code",
   "execution_count": null,
   "metadata": {},
   "outputs": [],
   "source": [
    "# compare histogram of pixel avg for train vs adversarial"
   ]
  },
  {
   "cell_type": "code",
   "execution_count": 3,
   "metadata": {},
   "outputs": [],
   "source": [
    "train_data_path = 'DEEPSAT6/X_train_sat6.csv'\n",
    "train_label_path = 'DEEPSAT6/y_train_sat6.csv'\n",
    "test_data_path = 'DEEPSAT6/X_test_sat6.csv'\n",
    "test_label_path = 'DEEPSAT6/y_test_sat6.csv'"
   ]
  },
  {
   "cell_type": "code",
   "execution_count": 4,
   "metadata": {},
   "outputs": [],
   "source": [
    "x_train = pd.read_csv(train_data_path, header=None, dtype='uint8')\n",
    "y_train = pd.read_csv(train_label_path, header=None, dtype='uint8')\n",
    "x_test = pd.read_csv(test_data_path, header=None, dtype='uint8')\n",
    "y_test = pd.read_csv(test_label_path, header=None, dtype='uint8')"
   ]
  },
  {
   "cell_type": "code",
   "execution_count": 5,
   "metadata": {},
   "outputs": [
    {
     "name": "stdout",
     "output_type": "stream",
     "text": [
      "Train data shape:  (324000, 3136)\n",
      "Train label shape:  (324000, 6)\n",
      "Test data shape:  (81000, 3136)\n",
      "Test label shape:  (81000, 6)\n"
     ]
    }
   ],
   "source": [
    "print(\"Train data shape: \", x_train.shape)\n",
    "print(\"Train label shape: \", y_train.shape)\n",
    "print(\"Test data shape: \", x_test.shape)\n",
    "print(\"Test label shape: \", y_test.shape)"
   ]
  },
  {
   "cell_type": "code",
   "execution_count": 6,
   "metadata": {},
   "outputs": [
    {
     "data": {
      "text/plain": [
       "((324000, 28, 28, 4), (81000, 28, 28, 4))"
      ]
     },
     "execution_count": 6,
     "metadata": {},
     "output_type": "execute_result"
    }
   ],
   "source": [
    "x_train = x_train.values.reshape([-1,28,28,4])\n",
    "x_test = x_test.values.reshape([-1,28,28,4])\n",
    "\n",
    "x_train.shape, x_test.shape"
   ]
  },
  {
   "cell_type": "code",
   "execution_count": 7,
   "metadata": {},
   "outputs": [
    {
     "name": "stdout",
     "output_type": "stream",
     "text": [
      "Num. classes: 6\n",
      "Class names: ['Construction', 'Road', 'Grassland', 'Barren', 'Water', 'Treecover']\n"
     ]
    }
   ],
   "source": [
    "class_names = ['Construction', 'Road', 'Grassland', 'Barren', 'Water', 'Treecover']\n",
    "class_count = len(class_names)\n",
    "\n",
    "print(\"Num. classes: %d\" % class_count)\n",
    "print(\"Class names:\", class_names)"
   ]
  },
  {
   "cell_type": "code",
   "execution_count": 8,
   "metadata": {},
   "outputs": [],
   "source": [
    "def label_converter(values):\n",
    "  if values[0] == 1:    # Building \n",
    "    return 0\n",
    "  elif values[1] == 1:  # Barren land \n",
    "    return 3\n",
    "  elif values[2] == 1:  # Trees\n",
    "    return 5\n",
    "  elif values[3] == 1:  # Grassland\n",
    "    return 2\n",
    "  elif values[4] == 1:  # Road\n",
    "    return 1\n",
    "  elif values[5] == 1:  # Water\n",
    "    return 4\n",
    "  else:\n",
    "    return None"
   ]
  },
  {
   "cell_type": "code",
   "execution_count": 9,
   "metadata": {},
   "outputs": [
    {
     "data": {
      "text/plain": [
       "array([5, 3, 4, ..., 4, 2, 3], dtype=uint8)"
      ]
     },
     "execution_count": 9,
     "metadata": {},
     "output_type": "execute_result"
    }
   ],
   "source": [
    "y_train = y_train.apply(label_converter, axis=1).values.ravel().astype('uint8')\n",
    "#y_train = train_label.values.ravel().astype('uint8')\n",
    "#y_train = train_label.apply(label_converter, axis=1).astype('category')\n",
    "y_train"
   ]
  },
  {
   "cell_type": "code",
   "execution_count": 10,
   "metadata": {},
   "outputs": [
    {
     "data": {
      "text/plain": [
       "array([5, 5, 4, ..., 5, 4, 5], dtype=uint8)"
      ]
     },
     "execution_count": 10,
     "metadata": {},
     "output_type": "execute_result"
    }
   ],
   "source": [
    "y_test = y_test.apply(label_converter, axis=1).values.ravel().astype('uint8')\n",
    "#y_test = test_label.values.ravel().astype('uint8')\n",
    "#y_test = test_label.apply(label_converter, axis=1).astype('category')\n",
    "y_test"
   ]
  },
  {
   "cell_type": "code",
   "execution_count": 11,
   "metadata": {},
   "outputs": [
    {
     "data": {
      "text/plain": [
       "(array([0, 1, 2, 3, 4, 5], dtype=uint8),\n",
       " array([ 3714,  2070, 12596, 18367, 30068, 14185], dtype=int64))"
      ]
     },
     "execution_count": 11,
     "metadata": {},
     "output_type": "execute_result"
    }
   ],
   "source": [
    "np.unique(y_train, return_counts=True)\n",
    "np.unique(y_test, return_counts=True)"
   ]
  },
  {
   "cell_type": "code",
   "execution_count": 12,
   "metadata": {},
   "outputs": [],
   "source": [
    "def show_samples(data, labels):\n",
    "    fig = plt.figure(figsize=(16, 8))\n",
    "    ax = []\n",
    "    rows, columns = 4, 8\n",
    "    \n",
    "    for i in range(columns * rows):\n",
    "        index = np.random.randint(1, 500)\n",
    "        img = data[index].reshape([28,28,4])[:,:,:3]\n",
    "        class_name = class_names[labels[index]]\n",
    "        ax.append(fig.add_subplot(rows, columns, i+1))\n",
    "        ax[-1].set_title(class_name)\n",
    "        plt.axis(\"off\")\n",
    "        plt.imshow(img)\n",
    "\n",
    "    plt.subplots_adjust(wspace=0.1, hspace=0.5)\n",
    "    plt.show()"
   ]
  },
  {
   "cell_type": "code",
   "execution_count": 13,
   "metadata": {},
   "outputs": [],
   "source": [
    "# show_samples(x_train, y_train) <---- BROKEN with dtype tf.float32"
   ]
  },
  {
   "cell_type": "code",
   "execution_count": 14,
   "metadata": {},
   "outputs": [],
   "source": [
    "def show_sample_histogram(data, labels, index=None):\n",
    "\n",
    "    if not index:\n",
    "        index = np.random.randint(1, len(labels))\n",
    "\n",
    "    fig = plt.figure(figsize=(12, 6))\n",
    "    ax = []\n",
    "    rows, columns = 1, 2\n",
    "    colors = (\"red\", \"green\", \"blue\", \"purple\")\n",
    "    channel_ids = (0, 1, 2, 3)\n",
    "\n",
    "    all = data[index].reshape([28, 28, 4])\n",
    "\n",
    "    class_name = class_names[labels[index]]\n",
    "    rgb = all[:,:,:3]\n",
    "    ax.append(fig.add_subplot(rows, columns, 1))\n",
    "    ax[-1].set_title(class_name, fontsize=20)\n",
    "    plt.axis(\"off\")\n",
    "    plt.imshow(rgb)\n",
    "\n",
    "    ax.append(fig.add_subplot(rows, columns, 2))\n",
    "    ax[-1].set_xlim([0, 256])\n",
    "    for channel_id, c in zip(channel_ids, colors):\n",
    "        histogram, bin_edges = np.histogram(\n",
    "            all[:, :, channel_id], bins=256, range=(0, 256))\n",
    "        ax[-1].plot(bin_edges[0:-1], histogram, color=c, linewidth=0.8)\n",
    "        ax[-1].set_title('Histogram of pixels', fontsize=20)\n",
    "        ax[-1].legend(['R', 'G', 'B', 'NIR'])\n",
    "\n",
    "    fig.tight_layout()\n",
    "\n",
    "    #plt.subplots_adjust(wspace=0.1, hspace=0.5)\n",
    "    plt.show()"
   ]
  },
  {
   "cell_type": "code",
   "execution_count": 15,
   "metadata": {},
   "outputs": [
    {
     "data": {
      "image/png": "[encoded data removed]",
      "text/plain": [
       "<Figure size 1200x600 with 2 Axes>"
      ]
     },
     "metadata": {},
     "output_type": "display_data"
    }
   ],
   "source": [
    "show_sample_histogram(x_train, y_train) #index = n"
   ]
  },
  {
   "cell_type": "code",
   "execution_count": 16,
   "metadata": {},
   "outputs": [
    {
     "name": "stdout",
     "output_type": "stream",
     "text": [
      "(226800, 28, 28, 4)\n",
      "(97200, 28, 28, 4)\n",
      "(226800,)\n",
      "(97200,)\n"
     ]
    }
   ],
   "source": [
    "x_train_partial, x_validation, y_train_partial, y_validation = train_test_split(\n",
    "    x_train, y_train, test_size=0.3, random_state=0, stratify=y_train)\n",
    "\n",
    "print(x_train_partial.shape)\n",
    "print(x_validation.shape)\n",
    "print(y_train_partial.shape)\n",
    "print(y_validation.shape)"
   ]
  },
  {
   "cell_type": "code",
   "execution_count": 17,
   "metadata": {},
   "outputs": [],
   "source": [
    "def train_and_test(id, model, x_train, y_train, x_test, y_test, epochs=10): \n",
    "    global best_model, best_accuracy\n",
    "\n",
    "    start_time = datetime.now()\n",
    "    model.fit(x_train, y_train, epochs=epochs)\n",
    "\n",
    "    end_time = datetime.now()\n",
    "    duration = (end_time - start_time).total_seconds()\n",
    "\n",
    "    print(\"Training took %.1f seconds\" % duration)\n",
    "    \n",
    "    print(f\"Model eval:\")\n",
    "    accuracy = model.evaluate(x_test, y_test)\n",
    "\n",
    "    #benchmark[id] = (accuracy[1], accuracy[0], duration)\n",
    "\n",
    "    #if accuracy[1] > best_accuracy:\n",
    "    #    best_model = model\n",
    "    #    best_accuracy = accuracy[1]\n",
    "\n",
    "    return accuracy"
   ]
  },
  {
   "cell_type": "code",
   "execution_count": 18,
   "metadata": {},
   "outputs": [],
   "source": [
    "from tensorflow.keras.models import Sequential\n",
    "from tensorflow.keras.layers import Conv2D, MaxPool2D, Flatten\n",
    "from tensorflow.keras.layers import Dense, Dropout, BatchNormalization"
   ]
  },
  {
   "cell_type": "code",
   "execution_count": null,
   "metadata": {},
   "outputs": [],
   "source": [
    "def create_modelv1(class_count, print_summary=False):\n",
    "\n",
    "    model = Sequential([\n",
    "        Conv2D(32, (4,4), activation='relu', input_shape=(28,28,4)),\n",
    "        MaxPool2D((3,3)),\n",
    "        Flatten(),\n",
    "        Dense(class_count, activation='softmax'),\n",
    "    ])\n",
    "\n",
    "    model.compile('adam', loss='sparse_categorical_crossentropy', metrics=['accuracy'])\n",
    "\n",
    "    if print_summary:\n",
    "        model.summary()\n",
    "\n",
    "    return model"
   ]
  },
  {
   "cell_type": "code",
   "execution_count": 20,
   "metadata": {},
   "outputs": [],
   "source": [
    "seed_value = 42\n",
    "\n",
    "# 1. Set the `PYTHONHASHSEED` environment variable at a fixed value\n",
    "import os\n",
    "os.environ['PYTHONHASHSEED'] = str(seed_value)\n",
    "\n",
    "# 2. Set the `python` built-in pseudo-random generator at a fixed value\n",
    "import random\n",
    "random.seed(seed_value)\n",
    "\n",
    "# 3. Set the `numpy` pseudo-random generator at a fixed value\n",
    "import numpy as np\n",
    "np.random.seed(seed_value)\n",
    "\n",
    "# 4. Set the `tensorflow` pseudo-random generator at a fixed value\n",
    "import tensorflow as tf\n",
    "tf.random.set_seed(seed_value)"
   ]
  },
  {
   "cell_type": "code",
   "execution_count": 37,
   "metadata": {},
   "outputs": [],
   "source": [
    "epsilon=0.1\n",
    "x_test_lim = x_test[:500]\n",
    "y_test_lim = y_test[:500]\n",
    "x_train_lim = x_train[:500]\n",
    "y_train_lim = y_train[:500]"
   ]
  },
  {
   "cell_type": "code",
   "execution_count": 55,
   "metadata": {},
   "outputs": [
    {
     "name": "stdout",
     "output_type": "stream",
     "text": [
      "Epoch 1/3\n"
     ]
    },
    {
     "name": "stderr",
     "output_type": "stream",
     "text": [
      "c:\\Users\\Durf\\anaconda3\\envs\\tools1\\Lib\\site-packages\\keras\\src\\layers\\convolutional\\base_conv.py:107: UserWarning: Do not pass an `input_shape`/`input_dim` argument to a layer. When using Sequential models, prefer using an `Input(shape)` object as the first layer in the model instead.\n",
      "  super().__init__(activity_regularizer=activity_regularizer, **kwargs)\n",
      "c:\\Users\\Durf\\anaconda3\\envs\\tools1\\Lib\\site-packages\\keras\\src\\ops\\nn.py:545: UserWarning: You are using a softmax over axis -1 of a tensor of shape (None, 1). This axis has size 1. The softmax operation will always return the value 1, which is likely not what you intended. Did you mean to use a sigmoid instead?\n",
      "  warnings.warn(\n"
     ]
    },
    {
     "ename": "InvalidArgumentError",
     "evalue": "Graph execution error:\n\nDetected at node compile_loss/sparse_categorical_crossentropy/SparseSoftmaxCrossEntropyWithLogits/SparseSoftmaxCrossEntropyWithLogits defined at (most recent call last):\n  File \"<frozen runpy>\", line 198, in _run_module_as_main\n\n  File \"<frozen runpy>\", line 88, in _run_code\n\n  File \"c:\\Users\\Durf\\anaconda3\\envs\\tools1\\Lib\\site-packages\\ipykernel_launcher.py\", line 18, in <module>\n\n  File \"c:\\Users\\Durf\\anaconda3\\envs\\tools1\\Lib\\site-packages\\traitlets\\config\\application.py\", line 1075, in launch_instance\n\n  File \"c:\\Users\\Durf\\anaconda3\\envs\\tools1\\Lib\\site-packages\\ipykernel\\kernelapp.py\", line 739, in start\n\n  File \"c:\\Users\\Durf\\anaconda3\\envs\\tools1\\Lib\\site-packages\\tornado\\platform\\asyncio.py\", line 205, in start\n\n  File \"c:\\Users\\Durf\\anaconda3\\envs\\tools1\\Lib\\asyncio\\base_events.py\", line 641, in run_forever\n\n  File \"c:\\Users\\Durf\\anaconda3\\envs\\tools1\\Lib\\asyncio\\base_events.py\", line 1986, in _run_once\n\n  File \"c:\\Users\\Durf\\anaconda3\\envs\\tools1\\Lib\\asyncio\\events.py\", line 88, in _run\n\n  File \"c:\\Users\\Durf\\anaconda3\\envs\\tools1\\Lib\\site-packages\\ipykernel\\kernelbase.py\", line 545, in dispatch_queue\n\n  File \"c:\\Users\\Durf\\anaconda3\\envs\\tools1\\Lib\\site-packages\\ipykernel\\kernelbase.py\", line 534, in process_one\n\n  File \"c:\\Users\\Durf\\anaconda3\\envs\\tools1\\Lib\\site-packages\\ipykernel\\kernelbase.py\", line 437, in dispatch_shell\n\n  File \"c:\\Users\\Durf\\anaconda3\\envs\\tools1\\Lib\\site-packages\\ipykernel\\ipkernel.py\", line 362, in execute_request\n\n  File \"c:\\Users\\Durf\\anaconda3\\envs\\tools1\\Lib\\site-packages\\ipykernel\\kernelbase.py\", line 778, in execute_request\n\n  File \"c:\\Users\\Durf\\anaconda3\\envs\\tools1\\Lib\\site-packages\\ipykernel\\ipkernel.py\", line 449, in do_execute\n\n  File \"c:\\Users\\Durf\\anaconda3\\envs\\tools1\\Lib\\site-packages\\ipykernel\\zmqshell.py\", line 549, in run_cell\n\n  File \"c:\\Users\\Durf\\anaconda3\\envs\\tools1\\Lib\\site-packages\\IPython\\core\\interactiveshell.py\", line 3075, in run_cell\n\n  File \"c:\\Users\\Durf\\anaconda3\\envs\\tools1\\Lib\\site-packages\\IPython\\core\\interactiveshell.py\", line 3130, in _run_cell\n\n  File \"c:\\Users\\Durf\\anaconda3\\envs\\tools1\\Lib\\site-packages\\IPython\\core\\async_helpers.py\", line 128, in _pseudo_sync_runner\n\n  File \"c:\\Users\\Durf\\anaconda3\\envs\\tools1\\Lib\\site-packages\\IPython\\core\\interactiveshell.py\", line 3334, in run_cell_async\n\n  File \"c:\\Users\\Durf\\anaconda3\\envs\\tools1\\Lib\\site-packages\\IPython\\core\\interactiveshell.py\", line 3517, in run_ast_nodes\n\n  File \"c:\\Users\\Durf\\anaconda3\\envs\\tools1\\Lib\\site-packages\\IPython\\core\\interactiveshell.py\", line 3577, in run_code\n\n  File \"C:\\Users\\Durf\\AppData\\Local\\Temp\\ipykernel_13836\\427456917.py\", line 2, in <module>\n\n  File \"C:\\Users\\Durf\\AppData\\Local\\Temp\\ipykernel_13836\\718563703.py\", line 5, in train_and_test\n\n  File \"c:\\Users\\Durf\\anaconda3\\envs\\tools1\\Lib\\site-packages\\keras\\src\\utils\\traceback_utils.py\", line 117, in error_handler\n\n  File \"c:\\Users\\Durf\\anaconda3\\envs\\tools1\\Lib\\site-packages\\keras\\src\\backend\\tensorflow\\trainer.py\", line 320, in fit\n\n  File \"c:\\Users\\Durf\\anaconda3\\envs\\tools1\\Lib\\site-packages\\keras\\src\\backend\\tensorflow\\trainer.py\", line 121, in one_step_on_iterator\n\n  File \"c:\\Users\\Durf\\anaconda3\\envs\\tools1\\Lib\\site-packages\\keras\\src\\backend\\tensorflow\\trainer.py\", line 108, in one_step_on_data\n\n  File \"c:\\Users\\Durf\\anaconda3\\envs\\tools1\\Lib\\site-packages\\keras\\src\\backend\\tensorflow\\trainer.py\", line 54, in train_step\n\n  File \"c:\\Users\\Durf\\anaconda3\\envs\\tools1\\Lib\\site-packages\\keras\\src\\trainers\\trainer.py\", line 359, in _compute_loss\n\n  File \"c:\\Users\\Durf\\anaconda3\\envs\\tools1\\Lib\\site-packages\\keras\\src\\trainers\\trainer.py\", line 327, in compute_loss\n\n  File \"c:\\Users\\Durf\\anaconda3\\envs\\tools1\\Lib\\site-packages\\keras\\src\\trainers\\compile_utils.py\", line 611, in __call__\n\n  File \"c:\\Users\\Durf\\anaconda3\\envs\\tools1\\Lib\\site-packages\\keras\\src\\trainers\\compile_utils.py\", line 652, in call\n\n  File \"c:\\Users\\Durf\\anaconda3\\envs\\tools1\\Lib\\site-packages\\keras\\src\\losses\\loss.py\", line 60, in __call__\n\n  File \"c:\\Users\\Durf\\anaconda3\\envs\\tools1\\Lib\\site-packages\\keras\\src\\losses\\losses.py\", line 27, in call\n\n  File \"c:\\Users\\Durf\\anaconda3\\envs\\tools1\\Lib\\site-packages\\keras\\src\\losses\\losses.py\", line 1870, in sparse_categorical_crossentropy\n\n  File \"c:\\Users\\Durf\\anaconda3\\envs\\tools1\\Lib\\site-packages\\keras\\src\\ops\\nn.py\", line 1559, in sparse_categorical_crossentropy\n\n  File \"c:\\Users\\Durf\\anaconda3\\envs\\tools1\\Lib\\site-packages\\keras\\src\\backend\\tensorflow\\nn.py\", line 671, in sparse_categorical_crossentropy\n\nReceived a label value of 5 which is outside the valid range of [0, 1).  Label values: 4 4 3 5 3 4 5 4 3 2 5 3 3 4 5 3 4 4 4 2 4 2 3 4 4 3 5 3 4 4 0 4\n\t [[{{node compile_loss/sparse_categorical_crossentropy/SparseSoftmaxCrossEntropyWithLogits/SparseSoftmaxCrossEntropyWithLogits}}]] [Op:__inference_one_step_on_iterator_424834]",
     "output_type": "error",
     "traceback": [
      "\u001b[1;31m---------------------------------------------------------------------------\u001b[0m",
      "\u001b[1;31mInvalidArgumentError\u001b[0m                      Traceback (most recent call last)",
      "Cell \u001b[1;32mIn[55], line 2\u001b[0m\n\u001b[0;32m      1\u001b[0m modelv1 \u001b[38;5;241m=\u001b[39m create_modelv1(class_count)\n\u001b[1;32m----> 2\u001b[0m \u001b[43mtrain_and_test\u001b[49m\u001b[43m(\u001b[49m\u001b[38;5;124;43m'\u001b[39;49m\u001b[38;5;124;43mv0.1\u001b[39;49m\u001b[38;5;124;43m'\u001b[39;49m\u001b[43m,\u001b[49m\u001b[43m \u001b[49m\u001b[43mmodelv1\u001b[49m\u001b[43m,\u001b[49m\u001b[43m \u001b[49m\u001b[43mx_train_lim\u001b[49m\u001b[43m,\u001b[49m\u001b[43m \u001b[49m\u001b[43my_train_lim\u001b[49m\u001b[43m,\u001b[49m\u001b[43m \u001b[49m\u001b[43mx_test_lim\u001b[49m\u001b[43m,\u001b[49m\u001b[43m \u001b[49m\u001b[43my_test_lim\u001b[49m\u001b[43m,\u001b[49m\u001b[43m \u001b[49m\u001b[43mepochs\u001b[49m\u001b[38;5;241;43m=\u001b[39;49m\u001b[38;5;241;43m3\u001b[39;49m\u001b[43m)\u001b[49m\n",
      "Cell \u001b[1;32mIn[17], line 5\u001b[0m, in \u001b[0;36mtrain_and_test\u001b[1;34m(id, model, x_train, y_train, x_test, y_test, epochs)\u001b[0m\n\u001b[0;32m      2\u001b[0m \u001b[38;5;28;01mglobal\u001b[39;00m best_model, best_accuracy\n\u001b[0;32m      4\u001b[0m start_time \u001b[38;5;241m=\u001b[39m datetime\u001b[38;5;241m.\u001b[39mnow()\n\u001b[1;32m----> 5\u001b[0m \u001b[43mmodel\u001b[49m\u001b[38;5;241;43m.\u001b[39;49m\u001b[43mfit\u001b[49m\u001b[43m(\u001b[49m\u001b[43mx_train\u001b[49m\u001b[43m,\u001b[49m\u001b[43m \u001b[49m\u001b[43my_train\u001b[49m\u001b[43m,\u001b[49m\u001b[43m \u001b[49m\u001b[43mepochs\u001b[49m\u001b[38;5;241;43m=\u001b[39;49m\u001b[43mepochs\u001b[49m\u001b[43m)\u001b[49m\n\u001b[0;32m      7\u001b[0m end_time \u001b[38;5;241m=\u001b[39m datetime\u001b[38;5;241m.\u001b[39mnow()\n\u001b[0;32m      8\u001b[0m duration \u001b[38;5;241m=\u001b[39m (end_time \u001b[38;5;241m-\u001b[39m start_time)\u001b[38;5;241m.\u001b[39mtotal_seconds()\n",
      "File \u001b[1;32mc:\\Users\\Durf\\anaconda3\\envs\\tools1\\Lib\\site-packages\\keras\\src\\utils\\traceback_utils.py:122\u001b[0m, in \u001b[0;36mfilter_traceback.<locals>.error_handler\u001b[1;34m(*args, **kwargs)\u001b[0m\n\u001b[0;32m    119\u001b[0m     filtered_tb \u001b[38;5;241m=\u001b[39m _process_traceback_frames(e\u001b[38;5;241m.\u001b[39m__traceback__)\n\u001b[0;32m    120\u001b[0m     \u001b[38;5;66;03m# To get the full stack trace, call:\u001b[39;00m\n\u001b[0;32m    121\u001b[0m     \u001b[38;5;66;03m# `keras.config.disable_traceback_filtering()`\u001b[39;00m\n\u001b[1;32m--> 122\u001b[0m     \u001b[38;5;28;01mraise\u001b[39;00m e\u001b[38;5;241m.\u001b[39mwith_traceback(filtered_tb) \u001b[38;5;28;01mfrom\u001b[39;00m \u001b[38;5;28;01mNone\u001b[39;00m\n\u001b[0;32m    123\u001b[0m \u001b[38;5;28;01mfinally\u001b[39;00m:\n\u001b[0;32m    124\u001b[0m     \u001b[38;5;28;01mdel\u001b[39;00m filtered_tb\n",
      "File \u001b[1;32mc:\\Users\\Durf\\anaconda3\\envs\\tools1\\Lib\\site-packages\\tensorflow\\python\\eager\\execute.py:53\u001b[0m, in \u001b[0;36mquick_execute\u001b[1;34m(op_name, num_outputs, inputs, attrs, ctx, name)\u001b[0m\n\u001b[0;32m     51\u001b[0m \u001b[38;5;28;01mtry\u001b[39;00m:\n\u001b[0;32m     52\u001b[0m   ctx\u001b[38;5;241m.\u001b[39mensure_initialized()\n\u001b[1;32m---> 53\u001b[0m   tensors \u001b[38;5;241m=\u001b[39m pywrap_tfe\u001b[38;5;241m.\u001b[39mTFE_Py_Execute(ctx\u001b[38;5;241m.\u001b[39m_handle, device_name, op_name,\n\u001b[0;32m     54\u001b[0m                                       inputs, attrs, num_outputs)\n\u001b[0;32m     55\u001b[0m \u001b[38;5;28;01mexcept\u001b[39;00m core\u001b[38;5;241m.\u001b[39m_NotOkStatusException \u001b[38;5;28;01mas\u001b[39;00m e:\n\u001b[0;32m     56\u001b[0m   \u001b[38;5;28;01mif\u001b[39;00m name \u001b[38;5;129;01mis\u001b[39;00m \u001b[38;5;129;01mnot\u001b[39;00m \u001b[38;5;28;01mNone\u001b[39;00m:\n",
      "\u001b[1;31mInvalidArgumentError\u001b[0m: Graph execution error:\n\nDetected at node compile_loss/sparse_categorical_crossentropy/SparseSoftmaxCrossEntropyWithLogits/SparseSoftmaxCrossEntropyWithLogits defined at (most recent call last):\n  File \"<frozen runpy>\", line 198, in _run_module_as_main\n\n  File \"<frozen runpy>\", line 88, in _run_code\n\n  File \"c:\\Users\\Durf\\anaconda3\\envs\\tools1\\Lib\\site-packages\\ipykernel_launcher.py\", line 18, in <module>\n\n  File \"c:\\Users\\Durf\\anaconda3\\envs\\tools1\\Lib\\site-packages\\traitlets\\config\\application.py\", line 1075, in launch_instance\n\n  File \"c:\\Users\\Durf\\anaconda3\\envs\\tools1\\Lib\\site-packages\\ipykernel\\kernelapp.py\", line 739, in start\n\n  File \"c:\\Users\\Durf\\anaconda3\\envs\\tools1\\Lib\\site-packages\\tornado\\platform\\asyncio.py\", line 205, in start\n\n  File \"c:\\Users\\Durf\\anaconda3\\envs\\tools1\\Lib\\asyncio\\base_events.py\", line 641, in run_forever\n\n  File \"c:\\Users\\Durf\\anaconda3\\envs\\tools1\\Lib\\asyncio\\base_events.py\", line 1986, in _run_once\n\n  File \"c:\\Users\\Durf\\anaconda3\\envs\\tools1\\Lib\\asyncio\\events.py\", line 88, in _run\n\n  File \"c:\\Users\\Durf\\anaconda3\\envs\\tools1\\Lib\\site-packages\\ipykernel\\kernelbase.py\", line 545, in dispatch_queue\n\n  File \"c:\\Users\\Durf\\anaconda3\\envs\\tools1\\Lib\\site-packages\\ipykernel\\kernelbase.py\", line 534, in process_one\n\n  File \"c:\\Users\\Durf\\anaconda3\\envs\\tools1\\Lib\\site-packages\\ipykernel\\kernelbase.py\", line 437, in dispatch_shell\n\n  File \"c:\\Users\\Durf\\anaconda3\\envs\\tools1\\Lib\\site-packages\\ipykernel\\ipkernel.py\", line 362, in execute_request\n\n  File \"c:\\Users\\Durf\\anaconda3\\envs\\tools1\\Lib\\site-packages\\ipykernel\\kernelbase.py\", line 778, in execute_request\n\n  File \"c:\\Users\\Durf\\anaconda3\\envs\\tools1\\Lib\\site-packages\\ipykernel\\ipkernel.py\", line 449, in do_execute\n\n  File \"c:\\Users\\Durf\\anaconda3\\envs\\tools1\\Lib\\site-packages\\ipykernel\\zmqshell.py\", line 549, in run_cell\n\n  File \"c:\\Users\\Durf\\anaconda3\\envs\\tools1\\Lib\\site-packages\\IPython\\core\\interactiveshell.py\", line 3075, in run_cell\n\n  File \"c:\\Users\\Durf\\anaconda3\\envs\\tools1\\Lib\\site-packages\\IPython\\core\\interactiveshell.py\", line 3130, in _run_cell\n\n  File \"c:\\Users\\Durf\\anaconda3\\envs\\tools1\\Lib\\site-packages\\IPython\\core\\async_helpers.py\", line 128, in _pseudo_sync_runner\n\n  File \"c:\\Users\\Durf\\anaconda3\\envs\\tools1\\Lib\\site-packages\\IPython\\core\\interactiveshell.py\", line 3334, in run_cell_async\n\n  File \"c:\\Users\\Durf\\anaconda3\\envs\\tools1\\Lib\\site-packages\\IPython\\core\\interactiveshell.py\", line 3517, in run_ast_nodes\n\n  File \"c:\\Users\\Durf\\anaconda3\\envs\\tools1\\Lib\\site-packages\\IPython\\core\\interactiveshell.py\", line 3577, in run_code\n\n  File \"C:\\Users\\Durf\\AppData\\Local\\Temp\\ipykernel_13836\\427456917.py\", line 2, in <module>\n\n  File \"C:\\Users\\Durf\\AppData\\Local\\Temp\\ipykernel_13836\\718563703.py\", line 5, in train_and_test\n\n  File \"c:\\Users\\Durf\\anaconda3\\envs\\tools1\\Lib\\site-packages\\keras\\src\\utils\\traceback_utils.py\", line 117, in error_handler\n\n  File \"c:\\Users\\Durf\\anaconda3\\envs\\tools1\\Lib\\site-packages\\keras\\src\\backend\\tensorflow\\trainer.py\", line 320, in fit\n\n  File \"c:\\Users\\Durf\\anaconda3\\envs\\tools1\\Lib\\site-packages\\keras\\src\\backend\\tensorflow\\trainer.py\", line 121, in one_step_on_iterator\n\n  File \"c:\\Users\\Durf\\anaconda3\\envs\\tools1\\Lib\\site-packages\\keras\\src\\backend\\tensorflow\\trainer.py\", line 108, in one_step_on_data\n\n  File \"c:\\Users\\Durf\\anaconda3\\envs\\tools1\\Lib\\site-packages\\keras\\src\\backend\\tensorflow\\trainer.py\", line 54, in train_step\n\n  File \"c:\\Users\\Durf\\anaconda3\\envs\\tools1\\Lib\\site-packages\\keras\\src\\trainers\\trainer.py\", line 359, in _compute_loss\n\n  File \"c:\\Users\\Durf\\anaconda3\\envs\\tools1\\Lib\\site-packages\\keras\\src\\trainers\\trainer.py\", line 327, in compute_loss\n\n  File \"c:\\Users\\Durf\\anaconda3\\envs\\tools1\\Lib\\site-packages\\keras\\src\\trainers\\compile_utils.py\", line 611, in __call__\n\n  File \"c:\\Users\\Durf\\anaconda3\\envs\\tools1\\Lib\\site-packages\\keras\\src\\trainers\\compile_utils.py\", line 652, in call\n\n  File \"c:\\Users\\Durf\\anaconda3\\envs\\tools1\\Lib\\site-packages\\keras\\src\\losses\\loss.py\", line 60, in __call__\n\n  File \"c:\\Users\\Durf\\anaconda3\\envs\\tools1\\Lib\\site-packages\\keras\\src\\losses\\losses.py\", line 27, in call\n\n  File \"c:\\Users\\Durf\\anaconda3\\envs\\tools1\\Lib\\site-packages\\keras\\src\\losses\\losses.py\", line 1870, in sparse_categorical_crossentropy\n\n  File \"c:\\Users\\Durf\\anaconda3\\envs\\tools1\\Lib\\site-packages\\keras\\src\\ops\\nn.py\", line 1559, in sparse_categorical_crossentropy\n\n  File \"c:\\Users\\Durf\\anaconda3\\envs\\tools1\\Lib\\site-packages\\keras\\src\\backend\\tensorflow\\nn.py\", line 671, in sparse_categorical_crossentropy\n\nReceived a label value of 5 which is outside the valid range of [0, 1).  Label values: 4 4 3 5 3 4 5 4 3 2 5 3 3 4 5 3 4 4 4 2 4 2 3 4 4 3 5 3 4 4 0 4\n\t [[{{node compile_loss/sparse_categorical_crossentropy/SparseSoftmaxCrossEntropyWithLogits/SparseSoftmaxCrossEntropyWithLogits}}]] [Op:__inference_one_step_on_iterator_424834]"
     ]
    }
   ],
   "source": [
    "modelv1 = create_modelv1(class_count)\n",
    "train_and_test('v0.1', modelv1, x_train_lim, y_train_lim, x_test_lim, y_test_lim, epochs=3)"
   ]
  },
  {
   "cell_type": "code",
   "execution_count": 51,
   "metadata": {},
   "outputs": [
    {
     "data": {
      "text/html": [
       "<pre style=\"white-space:pre;overflow-x:auto;line-height:normal;font-family:Menlo,'DejaVu Sans Mono',consolas,'Courier New',monospace\"><span style=\"font-weight: bold\">Model: \"sequential_4\"</span>\n",
       "</pre>\n"
      ],
      "text/plain": [
       "\u001b[1mModel: \"sequential_4\"\u001b[0m\n"
      ]
     },
     "metadata": {},
     "output_type": "display_data"
    },
    {
     "data": {
      "text/html": [
       "<pre style=\"white-space:pre;overflow-x:auto;line-height:normal;font-family:Menlo,'DejaVu Sans Mono',consolas,'Courier New',monospace\">┏━━━━━━━━━━━━━━━━━━━━━━━━━━━━━━━━━┳━━━━━━━━━━━━━━━━━━━━━━━━┳━━━━━━━━━━━━━━━┓\n",
       "┃<span style=\"font-weight: bold\"> Layer (type)                    </span>┃<span style=\"font-weight: bold\"> Output Shape           </span>┃<span style=\"font-weight: bold\">       Param # </span>┃\n",
       "┡━━━━━━━━━━━━━━━━━━━━━━━━━━━━━━━━━╇━━━━━━━━━━━━━━━━━━━━━━━━╇━━━━━━━━━━━━━━━┩\n",
       "│ conv2d_4 (<span style=\"color: #0087ff; text-decoration-color: #0087ff\">Conv2D</span>)               │ (<span style=\"color: #00d7ff; text-decoration-color: #00d7ff\">None</span>, <span style=\"color: #00af00; text-decoration-color: #00af00\">25</span>, <span style=\"color: #00af00; text-decoration-color: #00af00\">25</span>, <span style=\"color: #00af00; text-decoration-color: #00af00\">32</span>)     │         <span style=\"color: #00af00; text-decoration-color: #00af00\">2,080</span> │\n",
       "├─────────────────────────────────┼────────────────────────┼───────────────┤\n",
       "│ max_pooling2d_4 (<span style=\"color: #0087ff; text-decoration-color: #0087ff\">MaxPooling2D</span>)  │ (<span style=\"color: #00d7ff; text-decoration-color: #00d7ff\">None</span>, <span style=\"color: #00af00; text-decoration-color: #00af00\">8</span>, <span style=\"color: #00af00; text-decoration-color: #00af00\">8</span>, <span style=\"color: #00af00; text-decoration-color: #00af00\">32</span>)       │             <span style=\"color: #00af00; text-decoration-color: #00af00\">0</span> │\n",
       "├─────────────────────────────────┼────────────────────────┼───────────────┤\n",
       "│ flatten_4 (<span style=\"color: #0087ff; text-decoration-color: #0087ff\">Flatten</span>)             │ (<span style=\"color: #00d7ff; text-decoration-color: #00d7ff\">None</span>, <span style=\"color: #00af00; text-decoration-color: #00af00\">2048</span>)           │             <span style=\"color: #00af00; text-decoration-color: #00af00\">0</span> │\n",
       "├─────────────────────────────────┼────────────────────────┼───────────────┤\n",
       "│ dense_4 (<span style=\"color: #0087ff; text-decoration-color: #0087ff\">Dense</span>)                 │ (<span style=\"color: #00d7ff; text-decoration-color: #00d7ff\">None</span>, <span style=\"color: #00af00; text-decoration-color: #00af00\">6</span>)              │        <span style=\"color: #00af00; text-decoration-color: #00af00\">12,294</span> │\n",
       "└─────────────────────────────────┴────────────────────────┴───────────────┘\n",
       "</pre>\n"
      ],
      "text/plain": [
       "┏━━━━━━━━━━━━━━━━━━━━━━━━━━━━━━━━━┳━━━━━━━━━━━━━━━━━━━━━━━━┳━━━━━━━━━━━━━━━┓\n",
       "┃\u001b[1m \u001b[0m\u001b[1mLayer (type)                   \u001b[0m\u001b[1m \u001b[0m┃\u001b[1m \u001b[0m\u001b[1mOutput Shape          \u001b[0m\u001b[1m \u001b[0m┃\u001b[1m \u001b[0m\u001b[1m      Param #\u001b[0m\u001b[1m \u001b[0m┃\n",
       "┡━━━━━━━━━━━━━━━━━━━━━━━━━━━━━━━━━╇━━━━━━━━━━━━━━━━━━━━━━━━╇━━━━━━━━━━━━━━━┩\n",
       "│ conv2d_4 (\u001b[38;5;33mConv2D\u001b[0m)               │ (\u001b[38;5;45mNone\u001b[0m, \u001b[38;5;34m25\u001b[0m, \u001b[38;5;34m25\u001b[0m, \u001b[38;5;34m32\u001b[0m)     │         \u001b[38;5;34m2,080\u001b[0m │\n",
       "├─────────────────────────────────┼────────────────────────┼───────────────┤\n",
       "│ max_pooling2d_4 (\u001b[38;5;33mMaxPooling2D\u001b[0m)  │ (\u001b[38;5;45mNone\u001b[0m, \u001b[38;5;34m8\u001b[0m, \u001b[38;5;34m8\u001b[0m, \u001b[38;5;34m32\u001b[0m)       │             \u001b[38;5;34m0\u001b[0m │\n",
       "├─────────────────────────────────┼────────────────────────┼───────────────┤\n",
       "│ flatten_4 (\u001b[38;5;33mFlatten\u001b[0m)             │ (\u001b[38;5;45mNone\u001b[0m, \u001b[38;5;34m2048\u001b[0m)           │             \u001b[38;5;34m0\u001b[0m │\n",
       "├─────────────────────────────────┼────────────────────────┼───────────────┤\n",
       "│ dense_4 (\u001b[38;5;33mDense\u001b[0m)                 │ (\u001b[38;5;45mNone\u001b[0m, \u001b[38;5;34m6\u001b[0m)              │        \u001b[38;5;34m12,294\u001b[0m │\n",
       "└─────────────────────────────────┴────────────────────────┴───────────────┘\n"
      ]
     },
     "metadata": {},
     "output_type": "display_data"
    },
    {
     "data": {
      "text/html": [
       "<pre style=\"white-space:pre;overflow-x:auto;line-height:normal;font-family:Menlo,'DejaVu Sans Mono',consolas,'Courier New',monospace\"><span style=\"font-weight: bold\"> Total params: </span><span style=\"color: #00af00; text-decoration-color: #00af00\">43,124</span> (168.46 KB)\n",
       "</pre>\n"
      ],
      "text/plain": [
       "\u001b[1m Total params: \u001b[0m\u001b[38;5;34m43,124\u001b[0m (168.46 KB)\n"
      ]
     },
     "metadata": {},
     "output_type": "display_data"
    },
    {
     "data": {
      "text/html": [
       "<pre style=\"white-space:pre;overflow-x:auto;line-height:normal;font-family:Menlo,'DejaVu Sans Mono',consolas,'Courier New',monospace\"><span style=\"font-weight: bold\"> Trainable params: </span><span style=\"color: #00af00; text-decoration-color: #00af00\">14,374</span> (56.15 KB)\n",
       "</pre>\n"
      ],
      "text/plain": [
       "\u001b[1m Trainable params: \u001b[0m\u001b[38;5;34m14,374\u001b[0m (56.15 KB)\n"
      ]
     },
     "metadata": {},
     "output_type": "display_data"
    },
    {
     "data": {
      "text/html": [
       "<pre style=\"white-space:pre;overflow-x:auto;line-height:normal;font-family:Menlo,'DejaVu Sans Mono',consolas,'Courier New',monospace\"><span style=\"font-weight: bold\"> Non-trainable params: </span><span style=\"color: #00af00; text-decoration-color: #00af00\">0</span> (0.00 B)\n",
       "</pre>\n"
      ],
      "text/plain": [
       "\u001b[1m Non-trainable params: \u001b[0m\u001b[38;5;34m0\u001b[0m (0.00 B)\n"
      ]
     },
     "metadata": {},
     "output_type": "display_data"
    },
    {
     "data": {
      "text/html": [
       "<pre style=\"white-space:pre;overflow-x:auto;line-height:normal;font-family:Menlo,'DejaVu Sans Mono',consolas,'Courier New',monospace\"><span style=\"font-weight: bold\"> Optimizer params: </span><span style=\"color: #00af00; text-decoration-color: #00af00\">28,750</span> (112.31 KB)\n",
       "</pre>\n"
      ],
      "text/plain": [
       "\u001b[1m Optimizer params: \u001b[0m\u001b[38;5;34m28,750\u001b[0m (112.31 KB)\n"
      ]
     },
     "metadata": {},
     "output_type": "display_data"
    }
   ],
   "source": [
    "modelv1.summary()"
   ]
  },
  {
   "cell_type": "code",
   "execution_count": 47,
   "metadata": {},
   "outputs": [],
   "source": [
    "def fgsm_attack(model, images, labels, epsilon):\n",
    "    # Enable gradient tape for automatic differentiation\n",
    "    with tf.GradientTape() as tape:\n",
    "        # Cast images to float32 if they are not already\n",
    "        images = tf.convert_to_tensor(images, dtype=tf.float32)\n",
    "        # Make the model predictions\n",
    "        predictions = model(images)\n",
    "        print(predictions)\n",
    "        # Calculate the loss\n",
    "        loss = tf.keras.losses.sparse_categorical_crossentropy(labels, predictions)\n",
    "\n",
    "    # Calculate gradients of the loss with respect to the input image\n",
    "    gradients = tape.gradient(loss, images)\n",
    "    print(gradients)\n",
    "    # Get the sign of the gradients\n",
    "    signed_gradients = tf.sign(gradients)\n",
    "    # Create the adversarial images\n",
    "    adversarial_images = images + epsilon * signed_gradients\n",
    "    # Clip the values to maintain valid pixel range\n",
    "    adversarial_images = tf.clip_by_value(adversarial_images, 0, 1)  # Adjust based on normalization\n",
    "\n",
    "    return adversarial_images"
   ]
  },
  {
   "cell_type": "code",
   "execution_count": 48,
   "metadata": {},
   "outputs": [
    {
     "name": "stdout",
     "output_type": "stream",
     "text": [
      "tf.Tensor(\n",
      "[[1.8476115e-33 7.8205321e-27 4.7568426e-02 1.3972004e-26 1.8491847e-32\n",
      "  9.5243162e-01]\n",
      " [8.6143991e-06 4.6932920e-14 8.0100773e-04 3.6720763e-15 1.1854995e-24\n",
      "  9.9919039e-01]\n",
      " [1.8499763e-16 4.2252998e-29 0.0000000e+00 0.0000000e+00 1.0000000e+00\n",
      "  0.0000000e+00]\n",
      " ...\n",
      " [3.5645144e-07 6.3802436e-06 1.7667354e-10 9.9999321e-01 0.0000000e+00\n",
      "  9.1771828e-25]\n",
      " [3.8566155e-20 6.5624002e-28 0.0000000e+00 0.0000000e+00 1.0000000e+00\n",
      "  0.0000000e+00]\n",
      " [4.0496515e-33 8.5428817e-33 1.0947020e-20 2.4300464e-35 0.0000000e+00\n",
      "  1.0000000e+00]], shape=(500, 6), dtype=float32)\n",
      "None\n"
     ]
    },
    {
     "ename": "ValueError",
     "evalue": "Attempt to convert a value (None) with an unsupported type (<class 'NoneType'>) to a Tensor.",
     "output_type": "error",
     "traceback": [
      "\u001b[1;31m---------------------------------------------------------------------------\u001b[0m",
      "\u001b[1;31mValueError\u001b[0m                                Traceback (most recent call last)",
      "Cell \u001b[1;32mIn[48], line 1\u001b[0m\n\u001b[1;32m----> 1\u001b[0m adversarial_images \u001b[38;5;241m=\u001b[39m \u001b[43mfgsm_attack\u001b[49m\u001b[43m(\u001b[49m\u001b[43mmodelv1\u001b[49m\u001b[43m,\u001b[49m\u001b[43m \u001b[49m\u001b[43mx_test_lim\u001b[49m\u001b[43m,\u001b[49m\u001b[43m \u001b[49m\u001b[43my_test_lim\u001b[49m\u001b[43m,\u001b[49m\u001b[43m \u001b[49m\u001b[43mepsilon\u001b[49m\u001b[43m)\u001b[49m\n",
      "Cell \u001b[1;32mIn[47], line 16\u001b[0m, in \u001b[0;36mfgsm_attack\u001b[1;34m(model, images, labels, epsilon)\u001b[0m\n\u001b[0;32m     14\u001b[0m \u001b[38;5;28mprint\u001b[39m(gradients)\n\u001b[0;32m     15\u001b[0m \u001b[38;5;66;03m# Get the sign of the gradients\u001b[39;00m\n\u001b[1;32m---> 16\u001b[0m signed_gradients \u001b[38;5;241m=\u001b[39m \u001b[43mtf\u001b[49m\u001b[38;5;241;43m.\u001b[39;49m\u001b[43msign\u001b[49m\u001b[43m(\u001b[49m\u001b[43mgradients\u001b[49m\u001b[43m)\u001b[49m\n\u001b[0;32m     17\u001b[0m \u001b[38;5;66;03m# Create the adversarial images\u001b[39;00m\n\u001b[0;32m     18\u001b[0m adversarial_images \u001b[38;5;241m=\u001b[39m images \u001b[38;5;241m+\u001b[39m epsilon \u001b[38;5;241m*\u001b[39m signed_gradients\n",
      "File \u001b[1;32mc:\\Users\\Durf\\anaconda3\\envs\\tools1\\Lib\\site-packages\\tensorflow\\python\\ops\\weak_tensor_ops.py:88\u001b[0m, in \u001b[0;36mweak_tensor_unary_op_wrapper.<locals>.wrapper\u001b[1;34m(*args, **kwargs)\u001b[0m\n\u001b[0;32m     86\u001b[0m \u001b[38;5;28;01mdef\u001b[39;00m \u001b[38;5;21mwrapper\u001b[39m(\u001b[38;5;241m*\u001b[39margs, \u001b[38;5;241m*\u001b[39m\u001b[38;5;241m*\u001b[39mkwargs):\n\u001b[0;32m     87\u001b[0m   \u001b[38;5;28;01mif\u001b[39;00m \u001b[38;5;129;01mnot\u001b[39;00m ops\u001b[38;5;241m.\u001b[39mis_auto_dtype_conversion_enabled():\n\u001b[1;32m---> 88\u001b[0m     \u001b[38;5;28;01mreturn\u001b[39;00m \u001b[43mop\u001b[49m\u001b[43m(\u001b[49m\u001b[38;5;241;43m*\u001b[39;49m\u001b[43margs\u001b[49m\u001b[43m,\u001b[49m\u001b[43m \u001b[49m\u001b[38;5;241;43m*\u001b[39;49m\u001b[38;5;241;43m*\u001b[39;49m\u001b[43mkwargs\u001b[49m\u001b[43m)\u001b[49m\n\u001b[0;32m     89\u001b[0m   bound_arguments \u001b[38;5;241m=\u001b[39m signature\u001b[38;5;241m.\u001b[39mbind(\u001b[38;5;241m*\u001b[39margs, \u001b[38;5;241m*\u001b[39m\u001b[38;5;241m*\u001b[39mkwargs)\n\u001b[0;32m     90\u001b[0m   bound_arguments\u001b[38;5;241m.\u001b[39mapply_defaults()\n",
      "File \u001b[1;32mc:\\Users\\Durf\\anaconda3\\envs\\tools1\\Lib\\site-packages\\tensorflow\\python\\util\\traceback_utils.py:153\u001b[0m, in \u001b[0;36mfilter_traceback.<locals>.error_handler\u001b[1;34m(*args, **kwargs)\u001b[0m\n\u001b[0;32m    151\u001b[0m \u001b[38;5;28;01mexcept\u001b[39;00m \u001b[38;5;167;01mException\u001b[39;00m \u001b[38;5;28;01mas\u001b[39;00m e:\n\u001b[0;32m    152\u001b[0m   filtered_tb \u001b[38;5;241m=\u001b[39m _process_traceback_frames(e\u001b[38;5;241m.\u001b[39m__traceback__)\n\u001b[1;32m--> 153\u001b[0m   \u001b[38;5;28;01mraise\u001b[39;00m e\u001b[38;5;241m.\u001b[39mwith_traceback(filtered_tb) \u001b[38;5;28;01mfrom\u001b[39;00m \u001b[38;5;28;01mNone\u001b[39;00m\n\u001b[0;32m    154\u001b[0m \u001b[38;5;28;01mfinally\u001b[39;00m:\n\u001b[0;32m    155\u001b[0m   \u001b[38;5;28;01mdel\u001b[39;00m filtered_tb\n",
      "File \u001b[1;32mc:\\Users\\Durf\\anaconda3\\envs\\tools1\\Lib\\site-packages\\tensorflow\\python\\framework\\constant_op.py:108\u001b[0m, in \u001b[0;36mconvert_to_eager_tensor\u001b[1;34m(value, ctx, dtype)\u001b[0m\n\u001b[0;32m    106\u001b[0m     dtype \u001b[38;5;241m=\u001b[39m dtypes\u001b[38;5;241m.\u001b[39mas_dtype(dtype)\u001b[38;5;241m.\u001b[39mas_datatype_enum\n\u001b[0;32m    107\u001b[0m ctx\u001b[38;5;241m.\u001b[39mensure_initialized()\n\u001b[1;32m--> 108\u001b[0m \u001b[38;5;28;01mreturn\u001b[39;00m \u001b[43mops\u001b[49m\u001b[38;5;241;43m.\u001b[39;49m\u001b[43mEagerTensor\u001b[49m\u001b[43m(\u001b[49m\u001b[43mvalue\u001b[49m\u001b[43m,\u001b[49m\u001b[43m \u001b[49m\u001b[43mctx\u001b[49m\u001b[38;5;241;43m.\u001b[39;49m\u001b[43mdevice_name\u001b[49m\u001b[43m,\u001b[49m\u001b[43m \u001b[49m\u001b[43mdtype\u001b[49m\u001b[43m)\u001b[49m\n",
      "\u001b[1;31mValueError\u001b[0m: Attempt to convert a value (None) with an unsupported type (<class 'NoneType'>) to a Tensor."
     ]
    }
   ],
   "source": [
    "adversarial_images = fgsm_attack(modelv1, x_test_lim, y_test_lim, epsilon)"
   ]
  },
  {
   "cell_type": "code",
   "execution_count": null,
   "metadata": {},
   "outputs": [],
   "source": [
    "loss,accuracy = modelv1.evaluate(adversarial_images, y_train)\n",
    "print(f\"Adversarial acc: {accuracy}\")"
   ]
  },
  {
   "cell_type": "code",
   "execution_count": null,
   "metadata": {},
   "outputs": [],
   "source": [
    "# # Custom training loop\n",
    "# for epoch in range(num_epochs):\n",
    "#     for images, labels in train_dataset:  # Assuming you have a training dataset\n",
    "#         # Generate adversarial examples\n",
    "#         adversarial_images = fgsm_attack(model, images, labels, epsilon)\n",
    "\n",
    "#         # Combine clean and adversarial images for training (if desired)\n",
    "#         combined_images = tf.concat([images, adversarial_images], axis=0)\n",
    "#         combined_labels = tf.concat([labels, labels], axis=0)  # Repeat labels\n",
    "\n",
    "#         # Train the model\n",
    "#         model.train_on_batch(combined_images, combined_labels)"
   ]
  }
 ],
 "metadata": {
  "kernelspec": {
   "display_name": "tools1",
   "language": "python",
   "name": "python3"
  },
  "language_info": {
   "codemirror_mode": {
    "name": "ipython",
    "version": 3
   },
   "file_extension": ".py",
   "mimetype": "text/x-python",
   "name": "python",
   "nbconvert_exporter": "python",
   "pygments_lexer": "ipython3",
   "version": "3.12.5"
  }
 },
 "nbformat": 4,
 "nbformat_minor": 2
}
