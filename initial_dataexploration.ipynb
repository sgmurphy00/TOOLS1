{
 "cells": [
  {
   "cell_type": "code",
   "execution_count": 1,
   "metadata": {},
   "outputs": [],
   "source": [
    "import pandas as pd\n",
    "import numpy as np\n",
    "import matplotlib.pyplot as plt\n",
    "import tensorflow as tf\n",
    "from sklearn.model_selection import train_test_split\n",
    "from datetime import datetime\n",
    "from tensorflow.keras.callbacks import EarlyStopping, ModelCheckpoint\n",
    "\n",
    "%matplotlib inline"
   ]
  },
  {
   "cell_type": "code",
   "execution_count": 3,
   "metadata": {},
   "outputs": [],
   "source": [
    "train_data_path = 'DEEPSAT6/X_train_sat6.csv'\n",
    "train_label_path = 'DEEPSAT6/y_train_sat6.csv'\n",
    "test_data_path = 'DEEPSAT6/X_test_sat6.csv'\n",
    "test_label_path = 'DEEPSAT6/y_test_sat6.csv'"
   ]
  },
  {
   "cell_type": "code",
   "execution_count": 42,
   "metadata": {},
   "outputs": [],
   "source": [
    "x_train = pd.read_csv(train_data_path, header=None, dtype='float32')\n",
    "y_train = pd.read_csv(train_label_path, header=None, dtype='float32')\n",
    "x_test = pd.read_csv(test_data_path, header=None, dtype='float32')\n",
    "y_test = pd.read_csv(test_label_path, header=None, dtype='float32')"
   ]
  },
  {
   "cell_type": "code",
   "execution_count": 5,
   "metadata": {},
   "outputs": [
    {
     "name": "stdout",
     "output_type": "stream",
     "text": [
      "Train data shape:  (324000, 3136)\n",
      "Train label shape:  (324000, 6)\n",
      "Test data shape:  (81000, 3136)\n",
      "Test label shape:  (81000, 6)\n"
     ]
    }
   ],
   "source": [
    "print(\"Train data shape: \", x_train.shape)\n",
    "print(\"Train label shape: \", y_train.shape)\n",
    "print(\"Test data shape: \", x_test.shape)\n",
    "print(\"Test label shape: \", y_test.shape)"
   ]
  },
  {
   "cell_type": "code",
   "execution_count": 44,
   "metadata": {},
   "outputs": [
    {
     "data": {
      "text/plain": [
       "((324000, 28, 28, 4), (81000, 28, 28, 4))"
      ]
     },
     "execution_count": 44,
     "metadata": {},
     "output_type": "execute_result"
    }
   ],
   "source": [
    "x_train = x_train.values.reshape([-1,28,28,4])\n",
    "x_test = x_test.values.reshape([-1,28,28,4])\n",
    "\n",
    "x_train.shape, x_test.shape"
   ]
  },
  {
   "cell_type": "code",
   "execution_count": 45,
   "metadata": {},
   "outputs": [
    {
     "name": "stdout",
     "output_type": "stream",
     "text": [
      "Num. classes: 6\n",
      "Class names: ['Construction', 'Road', 'Grassland', 'Barren', 'Water', 'Treecover']\n"
     ]
    }
   ],
   "source": [
    "class_names = ['Construction', 'Road', 'Grassland', 'Barren', 'Water', 'Treecover']\n",
    "class_count = len(class_names)\n",
    "\n",
    "print(\"Num. classes: %d\" % class_count)\n",
    "print(\"Class names:\", class_names)"
   ]
  },
  {
   "cell_type": "code",
   "execution_count": 46,
   "metadata": {},
   "outputs": [],
   "source": [
    "def label_converter(values):\n",
    "  if values[0] == 1:    # Building \n",
    "    return 0\n",
    "  elif values[1] == 1:  # Barren land \n",
    "    return 3\n",
    "  elif values[2] == 1:  # Trees\n",
    "    return 5\n",
    "  elif values[3] == 1:  # Grassland\n",
    "    return 2\n",
    "  elif values[4] == 1:  # Road\n",
    "    return 1\n",
    "  elif values[5] == 1:  # Water\n",
    "    return 4\n",
    "  else:\n",
    "    return None"
   ]
  },
  {
   "cell_type": "code",
   "execution_count": 47,
   "metadata": {},
   "outputs": [
    {
     "data": {
      "text/plain": [
       "array([5., 3., 4., ..., 4., 2., 3.], dtype=float32)"
      ]
     },
     "execution_count": 47,
     "metadata": {},
     "output_type": "execute_result"
    }
   ],
   "source": [
    "y_train = y_train.apply(label_converter, axis=1).values.ravel().astype('float32')\n",
    "#y_train = train_label.values.ravel().astype('uint8')\n",
    "#y_train = train_label.apply(label_converter, axis=1).astype('category')\n",
    "y_train"
   ]
  },
  {
   "cell_type": "code",
   "execution_count": 48,
   "metadata": {},
   "outputs": [
    {
     "data": {
      "text/plain": [
       "array([5., 5., 4., ..., 5., 4., 5.], dtype=float32)"
      ]
     },
     "execution_count": 48,
     "metadata": {},
     "output_type": "execute_result"
    }
   ],
   "source": [
    "y_test = y_test.apply(label_converter, axis=1).values.ravel().astype('float32')\n",
    "#y_test = test_label.values.ravel().astype('uint8')\n",
    "#y_test = test_label.apply(label_converter, axis=1).astype('category')\n",
    "y_test"
   ]
  },
  {
   "cell_type": "code",
   "execution_count": 49,
   "metadata": {},
   "outputs": [
    {
     "data": {
      "text/plain": [
       "(array([0., 1., 2., 3., 4., 5.], dtype=float32),\n",
       " array([ 3714,  2070, 12596, 18367, 30068, 14185], dtype=int64))"
      ]
     },
     "execution_count": 49,
     "metadata": {},
     "output_type": "execute_result"
    }
   ],
   "source": [
    "np.unique(y_train, return_counts=True)\n",
    "np.unique(y_test, return_counts=True)"
   ]
  },
  {
   "cell_type": "code",
   "execution_count": 50,
   "metadata": {},
   "outputs": [],
   "source": [
    "def show_samples(data, labels):\n",
    "    fig = plt.figure(figsize=(16, 8))\n",
    "    ax = []\n",
    "    rows, columns = 4, 8\n",
    "    \n",
    "    for i in range(columns * rows):\n",
    "        index = np.random.randint(1, 500)\n",
    "        img = data[index].reshape([28,28,4])[:,:,:3]\n",
    "        class_name = class_names[labels[index]]\n",
    "        ax.append(fig.add_subplot(rows, columns, i+1))\n",
    "        ax[-1].set_title(class_name)\n",
    "        plt.axis(\"off\")\n",
    "        plt.imshow(img)\n",
    "\n",
    "    plt.subplots_adjust(wspace=0.1, hspace=0.5)\n",
    "    plt.show()"
   ]
  },
  {
   "cell_type": "code",
   "execution_count": null,
   "metadata": {},
   "outputs": [
    {
     "ename": "TypeError",
     "evalue": "list indices must be integers or slices, not numpy.float32",
     "output_type": "error",
     "traceback": [
      "\u001b[1;31m---------------------------------------------------------------------------\u001b[0m",
      "\u001b[1;31mTypeError\u001b[0m                                 Traceback (most recent call last)",
      "Cell \u001b[1;32mIn[51], line 1\u001b[0m\n\u001b[1;32m----> 1\u001b[0m \u001b[43mshow_samples\u001b[49m\u001b[43m(\u001b[49m\u001b[43mx_train\u001b[49m\u001b[43m,\u001b[49m\u001b[43m \u001b[49m\u001b[43my_train\u001b[49m\u001b[43m)\u001b[49m\n",
      "Cell \u001b[1;32mIn[50], line 9\u001b[0m, in \u001b[0;36mshow_samples\u001b[1;34m(data, labels)\u001b[0m\n\u001b[0;32m      7\u001b[0m index \u001b[38;5;241m=\u001b[39m np\u001b[38;5;241m.\u001b[39mrandom\u001b[38;5;241m.\u001b[39mrandint(\u001b[38;5;241m1\u001b[39m, \u001b[38;5;241m500\u001b[39m)\n\u001b[0;32m      8\u001b[0m img \u001b[38;5;241m=\u001b[39m data[index]\u001b[38;5;241m.\u001b[39mreshape([\u001b[38;5;241m28\u001b[39m,\u001b[38;5;241m28\u001b[39m,\u001b[38;5;241m4\u001b[39m])[:,:,:\u001b[38;5;241m3\u001b[39m]\n\u001b[1;32m----> 9\u001b[0m class_name \u001b[38;5;241m=\u001b[39m \u001b[43mclass_names\u001b[49m\u001b[43m[\u001b[49m\u001b[43mlabels\u001b[49m\u001b[43m[\u001b[49m\u001b[43mindex\u001b[49m\u001b[43m]\u001b[49m\u001b[43m]\u001b[49m\n\u001b[0;32m     10\u001b[0m ax\u001b[38;5;241m.\u001b[39mappend(fig\u001b[38;5;241m.\u001b[39madd_subplot(rows, columns, i\u001b[38;5;241m+\u001b[39m\u001b[38;5;241m1\u001b[39m))\n\u001b[0;32m     11\u001b[0m ax[\u001b[38;5;241m-\u001b[39m\u001b[38;5;241m1\u001b[39m]\u001b[38;5;241m.\u001b[39mset_title(class_name)\n",
      "\u001b[1;31mTypeError\u001b[0m: list indices must be integers or slices, not numpy.float32"
     ]
    },
    {
     "data": {
      "text/plain": [
       "<Figure size 1600x800 with 0 Axes>"
      ]
     },
     "metadata": {},
     "output_type": "display_data"
    }
   ],
   "source": [
    "# show_samples(x_train, y_train) <---- BROKEN with dtype tf.float32"
   ]
  },
  {
   "cell_type": "code",
   "execution_count": null,
   "metadata": {},
   "outputs": [],
   "source": [
    "def show_sample_histogram(data, labels, index=None):\n",
    "\n",
    "    if not index:\n",
    "        index = np.random.randint(1, len(labels))\n",
    "\n",
    "    fig = plt.figure(figsize=(12, 6))\n",
    "    ax = []\n",
    "    rows, columns = 1, 2\n",
    "    colors = (\"red\", \"green\", \"blue\", \"purple\")\n",
    "    channel_ids = (0, 1, 2, 3)\n",
    "\n",
    "    all = data[index].reshape([28, 28, 4])\n",
    "\n",
    "    class_name = class_names[labels[index]]\n",
    "    rgb = all[:,:,:3]\n",
    "    ax.append(fig.add_subplot(rows, columns, 1))\n",
    "    ax[-1].set_title(class_name, fontsize=20)\n",
    "    plt.axis(\"off\")\n",
    "    plt.imshow(rgb)\n",
    "\n",
    "    ax.append(fig.add_subplot(rows, columns, 2))\n",
    "    ax[-1].set_xlim([0, 256])\n",
    "    for channel_id, c in zip(channel_ids, colors):\n",
    "        histogram, bin_edges = np.histogram(\n",
    "            all[:, :, channel_id], bins=256, range=(0, 256))\n",
    "        ax[-1].plot(bin_edges[0:-1], histogram, color=c, linewidth=0.8)\n",
    "        ax[-1].set_title('Histogram of pixels', fontsize=20)\n",
    "        ax[-1].legend(['R', 'G', 'B', 'NIR'])\n",
    "\n",
    "    fig.tight_layout()\n",
    "\n",
    "    #plt.subplots_adjust(wspace=0.1, hspace=0.5)\n",
    "    plt.show()"
   ]
  },
  {
   "cell_type": "code",
   "execution_count": 15,
   "metadata": {},
   "outputs": [
    {
     "data": {
      "image/png": "[encoded data removed]",
      "text/plain": [
       "<Figure size 1200x600 with 2 Axes>"
      ]
     },
     "metadata": {},
     "output_type": "display_data"
    }
   ],
   "source": [
    "show_sample_histogram(x_train, y_train) #index = n"
   ]
  },
  {
   "cell_type": "code",
   "execution_count": 52,
   "metadata": {},
   "outputs": [
    {
     "name": "stdout",
     "output_type": "stream",
     "text": [
      "(226800, 28, 28, 4)\n",
      "(97200, 28, 28, 4)\n",
      "(226800,)\n",
      "(97200,)\n"
     ]
    }
   ],
   "source": [
    "x_train_partial, x_validation, y_train_partial, y_validation = train_test_split(\n",
    "    x_train, y_train, test_size=0.3, random_state=0, stratify=y_train)\n",
    "\n",
    "print(x_train_partial.shape)\n",
    "print(x_validation.shape)\n",
    "print(y_train_partial.shape)\n",
    "print(y_validation.shape)"
   ]
  },
  {
   "cell_type": "code",
   "execution_count": 17,
   "metadata": {},
   "outputs": [],
   "source": [
    "def train_and_test(id, model, x_train, y_train, x_test, y_test, epochs=10): \n",
    "    global best_model, best_accuracy\n",
    "\n",
    "    start_time = datetime.now()\n",
    "    model.fit(x_train, y_train, epochs=epochs)\n",
    "\n",
    "    end_time = datetime.now()\n",
    "    duration = (end_time - start_time).total_seconds()\n",
    "\n",
    "    print(\"Training took %.1f seconds\" % duration)\n",
    "    \n",
    "    print(f\"Model eval:\")\n",
    "    accuracy = model.evaluate(x_test, y_test)\n",
    "\n",
    "    #benchmark[id] = (accuracy[1], accuracy[0], duration)\n",
    "\n",
    "    #if accuracy[1] > best_accuracy:\n",
    "    #    best_model = model\n",
    "    #    best_accuracy = accuracy[1]\n",
    "\n",
    "    return accuracy"
   ]
  },
  {
   "cell_type": "code",
   "execution_count": 18,
   "metadata": {},
   "outputs": [],
   "source": [
    "from tensorflow.keras.models import Sequential\n",
    "from tensorflow.keras.layers import Conv2D, MaxPool2D, Flatten\n",
    "from tensorflow.keras.layers import Dense, Dropout, BatchNormalization"
   ]
  },
  {
   "cell_type": "code",
   "execution_count": 19,
   "metadata": {},
   "outputs": [],
   "source": [
    "def create_modelv1(class_count, print_summary=False):\n",
    "\n",
    "    model = Sequential([\n",
    "        Conv2D(32, (4,4), activation='relu', input_shape=(28,28,4)),\n",
    "        MaxPool2D((3,3)),\n",
    "        Flatten(),\n",
    "        Dense(class_count, activation='softmax'),\n",
    "    ])\n",
    "\n",
    "    model.compile('adam', loss='sparse_categorical_crossentropy', metrics=['accuracy'])\n",
    "\n",
    "    if print_summary:\n",
    "        model.summary()\n",
    "\n",
    "    return model"
   ]
  },
  {
   "cell_type": "code",
   "execution_count": 20,
   "metadata": {},
   "outputs": [],
   "source": [
    "seed_value = 42\n",
    "\n",
    "# 1. Set the `PYTHONHASHSEED` environment variable at a fixed value\n",
    "import os\n",
    "os.environ['PYTHONHASHSEED'] = str(seed_value)\n",
    "\n",
    "# 2. Set the `python` built-in pseudo-random generator at a fixed value\n",
    "import random\n",
    "random.seed(seed_value)\n",
    "\n",
    "# 3. Set the `numpy` pseudo-random generator at a fixed value\n",
    "import numpy as np\n",
    "np.random.seed(seed_value)\n",
    "\n",
    "# 4. Set the `tensorflow` pseudo-random generator at a fixed value\n",
    "import tensorflow as tf\n",
    "tf.random.set_seed(seed_value)"
   ]
  },
  {
   "cell_type": "code",
   "execution_count": 53,
   "metadata": {},
   "outputs": [
    {
     "name": "stderr",
     "output_type": "stream",
     "text": [
      "c:\\Users\\Durf\\anaconda3\\envs\\tools1\\Lib\\site-packages\\keras\\src\\layers\\convolutional\\base_conv.py:107: UserWarning: Do not pass an `input_shape`/`input_dim` argument to a layer. When using Sequential models, prefer using an `Input(shape)` object as the first layer in the model instead.\n",
      "  super().__init__(activity_regularizer=activity_regularizer, **kwargs)\n"
     ]
    },
    {
     "name": "stdout",
     "output_type": "stream",
     "text": [
      "Epoch 1/15\n",
      "\u001b[1m10125/10125\u001b[0m \u001b[32m━━━━━━━━━━━━━━━━━━━━\u001b[0m\u001b[37m\u001b[0m \u001b[1m95s\u001b[0m 3ms/step - accuracy: 0.8696 - loss: 0.6391\n",
      "Epoch 2/15\n",
      "\u001b[1m10125/10125\u001b[0m \u001b[32m━━━━━━━━━━━━━━━━━━━━\u001b[0m\u001b[37m\u001b[0m \u001b[1m30s\u001b[0m 3ms/step - accuracy: 0.8256 - loss: 0.3879\n",
      "Epoch 3/15\n",
      "\u001b[1m10125/10125\u001b[0m \u001b[32m━━━━━━━━━━━━━━━━━━━━\u001b[0m\u001b[37m\u001b[0m \u001b[1m28s\u001b[0m 3ms/step - accuracy: 0.8506 - loss: 0.3584\n",
      "Epoch 4/15\n",
      "\u001b[1m10125/10125\u001b[0m \u001b[32m━━━━━━━━━━━━━━━━━━━━\u001b[0m\u001b[37m\u001b[0m \u001b[1m29s\u001b[0m 3ms/step - accuracy: 0.8764 - loss: 0.3348\n",
      "Epoch 5/15\n",
      "\u001b[1m10125/10125\u001b[0m \u001b[32m━━━━━━━━━━━━━━━━━━━━\u001b[0m\u001b[37m\u001b[0m \u001b[1m28s\u001b[0m 3ms/step - accuracy: 0.9005 - loss: 0.3052\n",
      "Epoch 6/15\n",
      "\u001b[1m10125/10125\u001b[0m \u001b[32m━━━━━━━━━━━━━━━━━━━━\u001b[0m\u001b[37m\u001b[0m \u001b[1m30s\u001b[0m 3ms/step - accuracy: 0.9042 - loss: 0.2982\n",
      "Epoch 7/15\n",
      "\u001b[1m10125/10125\u001b[0m \u001b[32m━━━━━━━━━━━━━━━━━━━━\u001b[0m\u001b[37m\u001b[0m \u001b[1m28s\u001b[0m 3ms/step - accuracy: 0.9032 - loss: 0.3030\n",
      "Epoch 8/15\n",
      "\u001b[1m10125/10125\u001b[0m \u001b[32m━━━━━━━━━━━━━━━━━━━━\u001b[0m\u001b[37m\u001b[0m \u001b[1m28s\u001b[0m 3ms/step - accuracy: 0.9089 - loss: 0.2852\n",
      "Epoch 9/15\n",
      "\u001b[1m10125/10125\u001b[0m \u001b[32m━━━━━━━━━━━━━━━━━━━━\u001b[0m\u001b[37m\u001b[0m \u001b[1m28s\u001b[0m 3ms/step - accuracy: 0.9135 - loss: 0.2713\n",
      "Epoch 10/15\n",
      "\u001b[1m10125/10125\u001b[0m \u001b[32m━━━━━━━━━━━━━━━━━━━━\u001b[0m\u001b[37m\u001b[0m \u001b[1m28s\u001b[0m 3ms/step - accuracy: 0.9151 - loss: 0.2673\n",
      "Epoch 11/15\n",
      "\u001b[1m10125/10125\u001b[0m \u001b[32m━━━━━━━━━━━━━━━━━━━━\u001b[0m\u001b[37m\u001b[0m \u001b[1m28s\u001b[0m 3ms/step - accuracy: 0.9174 - loss: 0.2628\n",
      "Epoch 12/15\n",
      "\u001b[1m10125/10125\u001b[0m \u001b[32m━━━━━━━━━━━━━━━━━━━━\u001b[0m\u001b[37m\u001b[0m \u001b[1m29s\u001b[0m 3ms/step - accuracy: 0.9183 - loss: 0.2596\n",
      "Epoch 13/15\n",
      "\u001b[1m10125/10125\u001b[0m \u001b[32m━━━━━━━━━━━━━━━━━━━━\u001b[0m\u001b[37m\u001b[0m \u001b[1m27s\u001b[0m 3ms/step - accuracy: 0.9186 - loss: 0.2610\n",
      "Epoch 14/15\n",
      "\u001b[1m10125/10125\u001b[0m \u001b[32m━━━━━━━━━━━━━━━━━━━━\u001b[0m\u001b[37m\u001b[0m \u001b[1m28s\u001b[0m 3ms/step - accuracy: 0.9187 - loss: 0.2620\n",
      "Epoch 15/15\n",
      "\u001b[1m10125/10125\u001b[0m \u001b[32m━━━━━━━━━━━━━━━━━━━━\u001b[0m\u001b[37m\u001b[0m \u001b[1m28s\u001b[0m 3ms/step - accuracy: 0.9201 - loss: 0.2567\n",
      "Training took 590.2 seconds\n",
      "Model eval:\n",
      "\u001b[1m2532/2532\u001b[0m \u001b[32m━━━━━━━━━━━━━━━━━━━━\u001b[0m\u001b[37m\u001b[0m \u001b[1m5s\u001b[0m 2ms/step - accuracy: 0.9317 - loss: 0.2380\n"
     ]
    },
    {
     "data": {
      "text/plain": [
       "[0.23684580624103546, 0.9315308928489685]"
      ]
     },
     "execution_count": 53,
     "metadata": {},
     "output_type": "execute_result"
    }
   ],
   "source": [
    "modelv1 = create_modelv1(class_count)\n",
    "train_and_test('v0.1', modelv1, x_train, y_train, x_test, y_test, epochs=15)"
   ]
  },
  {
   "cell_type": "code",
   "execution_count": 61,
   "metadata": {},
   "outputs": [],
   "source": [
    "def fgsm_attack(model, images, labels, epsilon):\n",
    "    # Enable gradient tape for automatic differentiation\n",
    "    with tf.GradientTape() as tape:\n",
    "        # Cast images to float32 if they are not already\n",
    "        images = tf.convert_to_tensor(images, dtype=tf.float32)\n",
    "        # Make the model predictions\n",
    "        predictions = model(images)\n",
    "        # Calculate the loss\n",
    "        loss = tf.keras.losses.sparse_categorical_crossentropy(labels, predictions)\n",
    "\n",
    "    # Calculate gradients of the loss with respect to the input image\n",
    "    gradients = tape.gradient(loss, images)\n",
    "    # Get the sign of the gradients\n",
    "    signed_gradients = tf.sign(gradients)\n",
    "    # Create the adversarial images\n",
    "    adversarial_images = images + epsilon * signed_gradients\n",
    "    # Clip the values to maintain valid pixel range\n",
    "    adversarial_images = tf.clip_by_value(adversarial_images, 0, 1)  # Adjust based on normalization\n",
    "\n",
    "    return adversarial_images"
   ]
  },
  {
   "cell_type": "code",
   "execution_count": null,
   "metadata": {},
   "outputs": [],
   "source": [
    "epsilon=0.1\n",
    "\n",
    "adversarial_images = fgsm_attack(modelv1, x_train, y_train, epsilon)"
   ]
  },
  {
   "cell_type": "code",
   "execution_count": null,
   "metadata": {},
   "outputs": [],
   "source": [
    "loss,accuracy = modelv1.evaluate(adversarial_images, y_train)\n",
    "print(f\"Adversarial acc: {accuracy}\")"
   ]
  },
  {
   "cell_type": "code",
   "execution_count": null,
   "metadata": {},
   "outputs": [],
   "source": [
    "# Custom training loop\n",
    "for epoch in range(num_epochs):\n",
    "    for images, labels in train_dataset:  # Assuming you have a training dataset\n",
    "        # Generate adversarial examples\n",
    "        adversarial_images = fgsm_attack(model, images, labels, epsilon)\n",
    "\n",
    "        # Combine clean and adversarial images for training (if desired)\n",
    "        combined_images = tf.concat([images, adversarial_images], axis=0)\n",
    "        combined_labels = tf.concat([labels, labels], axis=0)  # Repeat labels\n",
    "\n",
    "        # Train the model\n",
    "        model.train_on_batch(combined_images, combined_labels)"
   ]
  }
 ],
 "metadata": {
  "kernelspec": {
   "display_name": "tools1",
   "language": "python",
   "name": "python3"
  },
  "language_info": {
   "codemirror_mode": {
    "name": "ipython",
    "version": 3
   },
   "file_extension": ".py",
   "mimetype": "text/x-python",
   "name": "python",
   "nbconvert_exporter": "python",
   "pygments_lexer": "ipython3",
   "version": "3.12.5"
  }
 },
 "nbformat": 4,
 "nbformat_minor": 2
}
