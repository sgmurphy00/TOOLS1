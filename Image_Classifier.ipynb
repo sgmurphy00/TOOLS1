{
  "nbformat": 4,
  "nbformat_minor": 0,
  "metadata": {
    "colab": {
      "provenance": [],
      "authorship_tag": "ABX9TyM59OwT/ZsVArXly6Mwg+qY",
      "include_colab_link": true
    },
    "kernelspec": {
      "name": "python3",
      "display_name": "Python 3"
    },
    "language_info": {
      "name": "python"
    }
  },
  "cells": [
    {
      "cell_type": "markdown",
      "metadata": {
        "id": "view-in-github",
        "colab_type": "text"
      },
      "source": [
        "<a href=\"https://colab.research.google.com/github/sgmurphy00/TOOLS1/blob/google_collab_environment/Image_Classifier.ipynb\" target=\"_parent\"><img src=\"https://colab.research.google.com/assets/colab-badge.svg\" alt=\"Open In Colab\"/></a>"
      ]
    },
    {
      "cell_type": "code",
      "execution_count": 1,
      "metadata": {
        "id": "Xt7aIFkVwiPg"
      },
      "outputs": [],
      "source": [
        "# Authors: Paul Scheidt & Sean Murphy\n",
        "# Date Created: 10.09.2024\n",
        "# Overview:\n",
        "# This code will develop a preliminary CNN to image classify 6 classes of\n",
        "# satellite data from DeepSat (SAT-6) Airborne Dataset.\n",
        "# Data Set Location: https://www.kaggle.com/datasets/crawford/deepsat-sat6\n",
        "################################################################################"
      ]
    },
    {
      "cell_type": "code",
      "source": [],
      "metadata": {
        "id": "y7g0SPU0wj7w"
      },
      "execution_count": null,
      "outputs": []
    }
  ]
}