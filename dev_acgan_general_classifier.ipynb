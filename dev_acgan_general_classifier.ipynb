{
  "nbformat": 4,
  "nbformat_minor": 0,
  "metadata": {
    "colab": {
      "provenance": [],
      "mount_file_id": "1DjJp6cobM8zO8Qf6PDU6ITpNH0Xb1PNJ",
      "authorship_tag": "ABX9TyOSusZ5ltePHFad2xoN8Bkt",
      "include_colab_link": true
    },
    "kernelspec": {
      "name": "python3",
      "display_name": "Python 3"
    },
    "language_info": {
      "name": "python"
    }
  },
  "cells": [
    {
      "cell_type": "markdown",
      "metadata": {
        "id": "view-in-github",
        "colab_type": "text"
      },
      "source": [
        "<a href=\"https://colab.research.google.com/github/sgmurphy00/TOOLS1/blob/google_collab_environment/dev_acgan_general_classifier.ipynb\" target=\"_parent\"><img src=\"https://colab.research.google.com/assets/colab-badge.svg\" alt=\"Open In Colab\"/></a>"
      ]
    },
    {
      "cell_type": "code",
      "execution_count": 18,
      "metadata": {
        "id": "68t5MWt0ZmSV"
      },
      "outputs": [],
      "source": [
        "# Baseline Packages of Colab\n",
        "!pip freeze > requirements_v1.txt\n"
      ]
    },
    {
      "cell_type": "code",
      "source": [
        "'''\n",
        "Author: Paul Scheidt\n",
        "Date: 10-23-2024\n",
        "Description:\n",
        "This Python Script will Run intial machine learning image classifier. Then\n",
        "run basic ACGAN algorithm\n",
        "'''"
      ],
      "metadata": {
        "id": "4LR1vtMFfB39"
      },
      "execution_count": null,
      "outputs": []
    },
    {
      "cell_type": "code",
      "source": [
        "# Import Packages for Machine Learning Image Classifier for Sat Data\n",
        "from google.colab import drive  # Required to path to google drive where data is stored\n",
        "import pandas as pd\n",
        "import tensorflow as tf\n",
        "import numpy as np\n",
        "import matplotlib.pyplot as plt\n",
        "import random\n",
        "import time\n",
        "from IPython import display\n",
        "import tfgraphviz as tfg\n",
        "from visualkeras import layered_view\n",
        "print(tf.__version__)"
      ],
      "metadata": {
        "id": "fKr9GSQrZ4_I",
        "colab": {
          "base_uri": "https://localhost:8080/"
        },
        "outputId": "55c91005-d586-41b3-ffd7-b257f4b8bfae"
      },
      "execution_count": 16,
      "outputs": [
        {
          "output_type": "stream",
          "name": "stdout",
          "text": [
            "2.17.0\n"
          ]
        }
      ]
    },
    {
      "cell_type": "code",
      "source": [],
      "metadata": {
        "id": "jh23Ori-lQjG"
      },
      "execution_count": null,
      "outputs": []
    },
    {
      "cell_type": "code",
      "source": [
        "# Connecting to Deep Stat Database\n",
        "drive.mount('/content/drive')\n",
        "\n"
      ],
      "metadata": {
        "colab": {
          "base_uri": "https://localhost:8080/"
        },
        "id": "CsMF4tXMf8sg",
        "outputId": "7f74c257-1bd4-44f5-f547-be872d72add2"
      },
      "execution_count": 6,
      "outputs": [
        {
          "output_type": "stream",
          "name": "stdout",
          "text": [
            "Drive already mounted at /content/drive; to attempt to forcibly remount, call drive.mount(\"/content/drive\", force_remount=True).\n"
          ]
        }
      ]
    },
    {
      "cell_type": "code",
      "source": [
        "DATA_PATH = '/content/drive/My Drive/DEEPSAT6/'"
      ],
      "metadata": {
        "id": "RX4G8hnKhry0"
      },
      "execution_count": 7,
      "outputs": []
    },
    {
      "cell_type": "code",
      "source": [
        "# Initializing training and valiadation Data Paths\n",
        "train_data_path = DATA_PATH + '/X_train_sat6.csv'\n",
        "train_label_path = DATA_PATH + 'y_train_sat6.csv'\n",
        "test_data_path = DATA_PATH + 'X_test_sat6.csv'\n",
        "test_label_path = DATA_PATH + 'y_test_sat6.csv'"
      ],
      "metadata": {
        "id": "-KvrZUMmhu-A"
      },
      "execution_count": 8,
      "outputs": []
    },
    {
      "cell_type": "code",
      "source": [
        "# Storing data into pandas dataframes\n",
        "x_train = pd.read_csv(train_data_path, header=None, dtype='uint8')\n",
        "y_train = pd.read_csv(train_label_path, header=None, dtype='uint8')\n",
        "x_test = pd.read_csv(test_data_path, header=None, dtype='uint8')\n",
        "y_test = pd.read_csv(test_label_path, header=None, dtype='uint8')"
      ],
      "metadata": {
        "id": "mF5lxnl7iE7S"
      },
      "execution_count": 9,
      "outputs": []
    },
    {
      "cell_type": "code",
      "source": [
        "# Investigating Shape of Pandas DataFrame\n",
        "print(\"Train data shape: \", x_train.shape)\n",
        "print(\"Train label shape: \", y_train.shape)\n",
        "print(\"Test data shape: \", x_test.shape)\n",
        "print(\"Test label shape: \", y_test.shape)"
      ],
      "metadata": {
        "colab": {
          "base_uri": "https://localhost:8080/"
        },
        "id": "_KLZ_29xiLDR",
        "outputId": "e913c87d-e6d0-490f-a616-813354ccff07"
      },
      "execution_count": 10,
      "outputs": [
        {
          "output_type": "stream",
          "name": "stdout",
          "text": [
            "Train data shape:  (324000, 3136)\n",
            "Train label shape:  (324000, 6)\n",
            "Test data shape:  (81000, 3136)\n",
            "Test label shape:  (81000, 6)\n"
          ]
        }
      ]
    },
    {
      "cell_type": "code",
      "source": [
        "# Restructuring Training and Test Images to be 3 layers, RGB\n",
        "x_train = x_train.values.reshape([-1,28,28,3])\n",
        "x_test = x_test.values.reshape([-1,28,28,3])\n",
        "\n",
        "x_train.shape, x_test.shape"
      ],
      "metadata": {
        "colab": {
          "base_uri": "https://localhost:8080/"
        },
        "id": "FTcvvxyWi8x6",
        "outputId": "da670165-631f-42a4-b997-e1300cd243a9"
      },
      "execution_count": 11,
      "outputs": [
        {
          "output_type": "execute_result",
          "data": {
            "text/plain": [
              "((432000, 28, 28, 3), (108000, 28, 28, 3))"
            ]
          },
          "metadata": {},
          "execution_count": 11
        }
      ]
    },
    {
      "cell_type": "code",
      "source": [
        "# Building Generator Model based on Architecture from"
      ],
      "metadata": {
        "colab": {
          "base_uri": "https://localhost:8080/"
        },
        "id": "CUm7GVoClwmI",
        "outputId": "c49a3d40-5ddb-4576-9b73-fa545f09890b"
      },
      "execution_count": 20,
      "outputs": [
        {
          "output_type": "execute_result",
          "data": {
            "text/plain": [
              "range(0, 432000)"
            ]
          },
          "metadata": {},
          "execution_count": 20
        }
      ]
    },
    {
      "cell_type": "code",
      "source": [],
      "metadata": {
        "id": "BfIU9C0ZlRvJ"
      },
      "execution_count": null,
      "outputs": []
    }
  ]
}